{
  "nbformat": 4,
  "nbformat_minor": 0,
  "metadata": {
    "colab": {
      "name": "Tarea3IC.ipynb",
      "provenance": [],
      "collapsed_sections": []
    },
    "kernelspec": {
      "name": "python3",
      "display_name": "Python 3"
    },
    "language_info": {
      "name": "python"
    }
  },
  "cells": [
    {
      "cell_type": "markdown",
      "metadata": {
        "id": "PoCSQYLFOXrw"
      },
      "source": [
        "# Tarea 3 \n",
        "## María José Liberona Tobar\n",
        "\n",
        "\n"
      ]
    },
    {
      "cell_type": "code",
      "metadata": {
        "colab": {
          "resources": {
            "http://localhost:8080/nbextensions/google.colab/files.js": {
              "data": "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",
              "ok": true,
              "headers": [
                [
                  "content-type",
                  "application/javascript"
                ]
              ],
              "status": 200,
              "status_text": ""
            }
          },
          "base_uri": "https://localhost:8080/",
          "height": 72
        },
        "id": "LXbf78vaOkW0",
        "outputId": "4d2b27dd-e254-4282-c7bd-04ae4668ee91"
      },
      "source": [
        "#Tarea 3\n",
        "\n",
        "#Librerías\n",
        "import pandas as pd\n",
        "import numpy as np\n",
        "import matplotlib.pyplot as plt\n",
        "import seaborn as sb\n",
        "import time\n",
        "from sklearn.model_selection import train_test_split, PredefinedSplit\n",
        "from sklearn.preprocessing import StandardScaler\n",
        "from sklearn import svm, datasets\n",
        "from sklearn.model_selection import GridSearchCV\n",
        "from sklearn.metrics import confusion_matrix, accuracy_score, roc_curve\n",
        "from sklearn.feature_selection import SelectFromModel, SelectKBest\n",
        "from sklearn.ensemble import RandomForestClassifier\n",
        "from scipy.io import arff\n",
        "\n",
        "\n",
        "\n",
        "\n",
        "#Importar archivo \n",
        "#Se debe subir el documento diabetes.arff\n",
        "from google.colab import files\n",
        "uploaded = files.upload()"
      ],
      "execution_count": 1,
      "outputs": [
        {
          "output_type": "display_data",
          "data": {
            "text/html": [
              "\n",
              "     <input type=\"file\" id=\"files-7245db4f-35ff-47c6-be25-76a2373caf07\" name=\"files[]\" multiple disabled\n",
              "        style=\"border:none\" />\n",
              "     <output id=\"result-7245db4f-35ff-47c6-be25-76a2373caf07\">\n",
              "      Upload widget is only available when the cell has been executed in the\n",
              "      current browser session. Please rerun this cell to enable.\n",
              "      </output>\n",
              "      <script src=\"/nbextensions/google.colab/files.js\"></script> "
            ],
            "text/plain": [
              "<IPython.core.display.HTML object>"
            ]
          },
          "metadata": {
            "tags": []
          }
        },
        {
          "output_type": "stream",
          "text": [
            "Saving diabetes.arff to diabetes.arff\n"
          ],
          "name": "stdout"
        }
      ]
    },
    {
      "cell_type": "code",
      "metadata": {
        "colab": {
          "base_uri": "https://localhost:8080/",
          "height": 419
        },
        "id": "n4hIU2qbQ87g",
        "outputId": "b1b60887-9469-451c-a88e-a8a4eb3e00cf"
      },
      "source": [
        "#b) Leer el documento \n",
        "data=arff.loadarff('diabetes.arff')\n",
        "p_data=pd.DataFrame(data[0])\n",
        "columns=list(p_data.columns)\n",
        "\n",
        "# Reemplazo de las clases por 1 o 0\n",
        "p_data.loc[p_data['class']==b'tested_positive','class']=1  #Clase positiva\n",
        "p_data.loc[p_data['class']==b'tested_negative','class']=0  #Clase negativa\n",
        "\n",
        "p_data"
      ],
      "execution_count": 2,
      "outputs": [
        {
          "output_type": "execute_result",
          "data": {
            "text/html": [
              "<div>\n",
              "<style scoped>\n",
              "    .dataframe tbody tr th:only-of-type {\n",
              "        vertical-align: middle;\n",
              "    }\n",
              "\n",
              "    .dataframe tbody tr th {\n",
              "        vertical-align: top;\n",
              "    }\n",
              "\n",
              "    .dataframe thead th {\n",
              "        text-align: right;\n",
              "    }\n",
              "</style>\n",
              "<table border=\"1\" class=\"dataframe\">\n",
              "  <thead>\n",
              "    <tr style=\"text-align: right;\">\n",
              "      <th></th>\n",
              "      <th>preg</th>\n",
              "      <th>plas</th>\n",
              "      <th>pres</th>\n",
              "      <th>skin</th>\n",
              "      <th>insu</th>\n",
              "      <th>mass</th>\n",
              "      <th>pedi</th>\n",
              "      <th>age</th>\n",
              "      <th>class</th>\n",
              "    </tr>\n",
              "  </thead>\n",
              "  <tbody>\n",
              "    <tr>\n",
              "      <th>0</th>\n",
              "      <td>6.0</td>\n",
              "      <td>148.0</td>\n",
              "      <td>72.0</td>\n",
              "      <td>35.0</td>\n",
              "      <td>0.0</td>\n",
              "      <td>33.6</td>\n",
              "      <td>0.627</td>\n",
              "      <td>50.0</td>\n",
              "      <td>1</td>\n",
              "    </tr>\n",
              "    <tr>\n",
              "      <th>1</th>\n",
              "      <td>1.0</td>\n",
              "      <td>85.0</td>\n",
              "      <td>66.0</td>\n",
              "      <td>29.0</td>\n",
              "      <td>0.0</td>\n",
              "      <td>26.6</td>\n",
              "      <td>0.351</td>\n",
              "      <td>31.0</td>\n",
              "      <td>0</td>\n",
              "    </tr>\n",
              "    <tr>\n",
              "      <th>2</th>\n",
              "      <td>8.0</td>\n",
              "      <td>183.0</td>\n",
              "      <td>64.0</td>\n",
              "      <td>0.0</td>\n",
              "      <td>0.0</td>\n",
              "      <td>23.3</td>\n",
              "      <td>0.672</td>\n",
              "      <td>32.0</td>\n",
              "      <td>1</td>\n",
              "    </tr>\n",
              "    <tr>\n",
              "      <th>3</th>\n",
              "      <td>1.0</td>\n",
              "      <td>89.0</td>\n",
              "      <td>66.0</td>\n",
              "      <td>23.0</td>\n",
              "      <td>94.0</td>\n",
              "      <td>28.1</td>\n",
              "      <td>0.167</td>\n",
              "      <td>21.0</td>\n",
              "      <td>0</td>\n",
              "    </tr>\n",
              "    <tr>\n",
              "      <th>4</th>\n",
              "      <td>0.0</td>\n",
              "      <td>137.0</td>\n",
              "      <td>40.0</td>\n",
              "      <td>35.0</td>\n",
              "      <td>168.0</td>\n",
              "      <td>43.1</td>\n",
              "      <td>2.288</td>\n",
              "      <td>33.0</td>\n",
              "      <td>1</td>\n",
              "    </tr>\n",
              "    <tr>\n",
              "      <th>...</th>\n",
              "      <td>...</td>\n",
              "      <td>...</td>\n",
              "      <td>...</td>\n",
              "      <td>...</td>\n",
              "      <td>...</td>\n",
              "      <td>...</td>\n",
              "      <td>...</td>\n",
              "      <td>...</td>\n",
              "      <td>...</td>\n",
              "    </tr>\n",
              "    <tr>\n",
              "      <th>763</th>\n",
              "      <td>10.0</td>\n",
              "      <td>101.0</td>\n",
              "      <td>76.0</td>\n",
              "      <td>48.0</td>\n",
              "      <td>180.0</td>\n",
              "      <td>32.9</td>\n",
              "      <td>0.171</td>\n",
              "      <td>63.0</td>\n",
              "      <td>0</td>\n",
              "    </tr>\n",
              "    <tr>\n",
              "      <th>764</th>\n",
              "      <td>2.0</td>\n",
              "      <td>122.0</td>\n",
              "      <td>70.0</td>\n",
              "      <td>27.0</td>\n",
              "      <td>0.0</td>\n",
              "      <td>36.8</td>\n",
              "      <td>0.340</td>\n",
              "      <td>27.0</td>\n",
              "      <td>0</td>\n",
              "    </tr>\n",
              "    <tr>\n",
              "      <th>765</th>\n",
              "      <td>5.0</td>\n",
              "      <td>121.0</td>\n",
              "      <td>72.0</td>\n",
              "      <td>23.0</td>\n",
              "      <td>112.0</td>\n",
              "      <td>26.2</td>\n",
              "      <td>0.245</td>\n",
              "      <td>30.0</td>\n",
              "      <td>0</td>\n",
              "    </tr>\n",
              "    <tr>\n",
              "      <th>766</th>\n",
              "      <td>1.0</td>\n",
              "      <td>126.0</td>\n",
              "      <td>60.0</td>\n",
              "      <td>0.0</td>\n",
              "      <td>0.0</td>\n",
              "      <td>30.1</td>\n",
              "      <td>0.349</td>\n",
              "      <td>47.0</td>\n",
              "      <td>1</td>\n",
              "    </tr>\n",
              "    <tr>\n",
              "      <th>767</th>\n",
              "      <td>1.0</td>\n",
              "      <td>93.0</td>\n",
              "      <td>70.0</td>\n",
              "      <td>31.0</td>\n",
              "      <td>0.0</td>\n",
              "      <td>30.4</td>\n",
              "      <td>0.315</td>\n",
              "      <td>23.0</td>\n",
              "      <td>0</td>\n",
              "    </tr>\n",
              "  </tbody>\n",
              "</table>\n",
              "<p>768 rows × 9 columns</p>\n",
              "</div>"
            ],
            "text/plain": [
              "     preg   plas  pres  skin   insu  mass   pedi   age class\n",
              "0     6.0  148.0  72.0  35.0    0.0  33.6  0.627  50.0     1\n",
              "1     1.0   85.0  66.0  29.0    0.0  26.6  0.351  31.0     0\n",
              "2     8.0  183.0  64.0   0.0    0.0  23.3  0.672  32.0     1\n",
              "3     1.0   89.0  66.0  23.0   94.0  28.1  0.167  21.0     0\n",
              "4     0.0  137.0  40.0  35.0  168.0  43.1  2.288  33.0     1\n",
              "..    ...    ...   ...   ...    ...   ...    ...   ...   ...\n",
              "763  10.0  101.0  76.0  48.0  180.0  32.9  0.171  63.0     0\n",
              "764   2.0  122.0  70.0  27.0    0.0  36.8  0.340  27.0     0\n",
              "765   5.0  121.0  72.0  23.0  112.0  26.2  0.245  30.0     0\n",
              "766   1.0  126.0  60.0   0.0    0.0  30.1  0.349  47.0     1\n",
              "767   1.0   93.0  70.0  31.0    0.0  30.4  0.315  23.0     0\n",
              "\n",
              "[768 rows x 9 columns]"
            ]
          },
          "metadata": {
            "tags": []
          },
          "execution_count": 2
        }
      ]
    },
    {
      "cell_type": "code",
      "metadata": {
        "id": "GVJpFWvdTIkV"
      },
      "source": [
        "# División en subconjuntos de entrenamiento, validación y prueba. \n",
        "\n",
        "d_train, vp=train_test_split(p_data,train_size=0.6,test_size=0.4,shuffle=True)\n",
        "d_val, d_test=train_test_split(vp,train_size=0.5,test_size=0.5,shuffle=True)\n",
        "\n",
        "data_train=d_train.reset_index(drop=True)\n",
        "data_val=d_val.reset_index(drop=True)\n",
        "data_test=d_test.reset_index(drop=True)\n",
        "\n"
      ],
      "execution_count": 3,
      "outputs": []
    },
    {
      "cell_type": "code",
      "metadata": {
        "colab": {
          "base_uri": "https://localhost:8080/"
        },
        "id": "nPVkHxqXT7_K",
        "outputId": "8ec4176e-dd6f-47d3-bca2-5810bfcd57a9"
      },
      "source": [
        "# c) Preprocesar las características usando un StandardScaler\n",
        "#Entrenamiento de StandScaler a partir de los datos de entrenamiento\n",
        "scaler = StandardScaler()\n",
        "\n",
        "print(scaler.fit(data_train.iloc[:,:8])) #Calcula la media y desviación estándar \n",
        "\n",
        "#Normaliza las muestras \n",
        "train=scaler.transform(data_train.iloc[:,:8])\n",
        "#print(train)\n",
        "test=scaler.transform(data_test.iloc[:,:8])\n",
        "#print(test)\n",
        "val=scaler.transform(data_val.iloc[:,:8])\n",
        "#print(val)\n",
        "\n",
        "#Convierte las clases a un array\n",
        "class_train=np.array(data_train['class'], dtype='int64')\n",
        "class_val=np.array(data_val['class'], dtype='int64')\n",
        "class_test=np.array(data_test['class'],dtype='int64')\n"
      ],
      "execution_count": 4,
      "outputs": [
        {
          "output_type": "stream",
          "text": [
            "StandardScaler(copy=True, with_mean=True, with_std=True)\n"
          ],
          "name": "stdout"
        }
      ]
    },
    {
      "cell_type": "code",
      "metadata": {
        "colab": {
          "base_uri": "https://localhost:8080/"
        },
        "id": "nVjmNLW6YmCw",
        "outputId": "9c1011b3-84ab-4b9b-b5f5-b5352a1a7f82"
      },
      "source": [
        "# d) Realizar una clasificación usando un clasificador svm lineal \n",
        "\n",
        "#Antes de crear el clasificador se emplea la función PredefinedSplit() \n",
        "indices=np.zeros(data_train.shape[0]+data_val.shape[0])\n",
        "for i in range(data_train.shape[0]):\n",
        "  indices[i]=-1\n",
        "train_val=np.concatenate([train,val])\n",
        "class_train_val=np.concatenate([class_train,class_val])\n",
        "p=PredefinedSplit(indices)\n",
        "\n",
        "#Se crea el estimador directamente desde la función GridSearchCV()\n",
        "\n",
        "#Hora inicial en segundos\n",
        "time0=time.time()\n",
        "\n",
        "#Define el mejor valor de los parámetros\n",
        "model=GridSearchCV(estimator=svm.SVC(), param_grid={'C':[0.0001, 0.001,0.1],'kernel':['linear']}, cv=p)\n",
        "#Entrena el modelo lineal \n",
        "model.fit(train_val, class_train_val)\n",
        "#Muestra el resultado de los mejores parámetros\n",
        "print(model.best_estimator_)\n",
        "print('El best score del clasificador svm es: '+str(model.best_score_))\n",
        "\n",
        "#Hora final en segundos\n",
        "time1=time.time()\n",
        "#Tiempo que se demora el entrenamiento\n",
        "time_train=time1-time0\n",
        "print('El tiempo de entrenamiento es: '+str(time_train))\n",
        "\n",
        "#Se guardan los mejores parámetros y reentrena el modelo lineal\n",
        "model_lineal=GridSearchCV(estimator=svm.SVC(), param_grid={'C':[model.best_estimator_.C],'kernel':['linear']})\n",
        "model_lineal.fit(train, class_train)\n",
        "print(model_lineal.best_estimator_)\n"
      ],
      "execution_count": 5,
      "outputs": [
        {
          "output_type": "stream",
          "text": [
            "SVC(C=0.1, break_ties=False, cache_size=200, class_weight=None, coef0=0.0,\n",
            "    decision_function_shape='ovr', degree=3, gamma='scale', kernel='linear',\n",
            "    max_iter=-1, probability=False, random_state=None, shrinking=True,\n",
            "    tol=0.001, verbose=False)\n",
            "El best score del clasificador svm es: 0.7857142857142857\n",
            "El tiempo de entrenamiento es: 0.031992197036743164\n",
            "SVC(C=0.1, break_ties=False, cache_size=200, class_weight=None, coef0=0.0,\n",
            "    decision_function_shape='ovr', degree=3, gamma='scale', kernel='linear',\n",
            "    max_iter=-1, probability=False, random_state=None, shrinking=True,\n",
            "    tol=0.001, verbose=False)\n"
          ],
          "name": "stdout"
        }
      ]
    },
    {
      "cell_type": "code",
      "metadata": {
        "colab": {
          "base_uri": "https://localhost:8080/",
          "height": 581
        },
        "id": "35Xhm02Tb1Wd",
        "outputId": "c4cc68f3-4c50-40eb-c21c-3b738b51adf8"
      },
      "source": [
        "# e) Generar matriz de confusión normalizada \n",
        "\n",
        "#Predicción usando el modelo_lineal\n",
        "pred_val=model.predict(val) \n",
        "\n",
        "#Matriz de confusión normalizada True\n",
        "mc_val_t=confusion_matrix(class_val,pred_val, labels=[0,1], normalize='true')\n",
        "#print(mc_val_t)\n",
        "sb.heatmap(mc_val_t, annot=True)\n",
        "plt.show()\n",
        "\n",
        "#Matriz de confusión normalizada All\n",
        "mc_val_a=confusion_matrix(class_val,pred_val, labels=[0,1], normalize='all')\n",
        "#print(mc_val_a)\n",
        "sb.heatmap(mc_val_a, annot=True)\n",
        "plt.show()\n",
        "\n",
        "#Métrica Accuracy (promedio diagonales) con normalización 'all'\n",
        "acc_val=accuracy_score(class_val,pred_val, normalize=True)\n",
        "print('El accuracy mediante la métrica es: '+str(acc_val))\n",
        "prom_diagonal=mc_val_a.diagonal().sum()\n",
        "print('Suma de la diagonal para la matriz de confusión (all): '+str(prom_diagonal))\n",
        "\n",
        "#Métrica Accuracy (promedio diagonales) con normalización 'true'\n",
        "prom_diagonal_t=mc_val_t.diagonal().sum()\n",
        "prom_diagonal_t2=prom_diagonal_t/2\n",
        "print('Suma de la diagonal para la matriz de confusión (true): '+str(prom_diagonal_t))\n",
        "print('Promedio de la diagonal para la matriz de confusión (true): '+str(prom_diagonal_t2))\n",
        "\n",
        "\n"
      ],
      "execution_count": 6,
      "outputs": [
        {
          "output_type": "display_data",
          "data": {
            "image/png": "[encoded data removed]",
            "text/plain": [
              "<Figure size 432x288 with 2 Axes>"
            ]
          },
          "metadata": {
            "tags": [],
            "needs_background": "light"
          }
        },
        {
          "output_type": "display_data",
          "data": {
            "image/png": "[encoded data removed]",
            "text/plain": [
              "<Figure size 432x288 with 2 Axes>"
            ]
          },
          "metadata": {
            "tags": [],
            "needs_background": "light"
          }
        },
        {
          "output_type": "stream",
          "text": [
            "El accuracy mediante la métrica es: 0.8051948051948052\n",
            "Suma de la diagonal para la matriz de confusión (all): 0.8051948051948052\n",
            "Suma de la diagonal para la matriz de confusión (true): 1.5557537912578057\n",
            "Promedio de la diagonal para la matriz de confusión (true): 0.7778768956289028\n"
          ],
          "name": "stdout"
        }
      ]
    },
    {
      "cell_type": "code",
      "metadata": {
        "colab": {
          "base_uri": "https://localhost:8080/"
        },
        "id": "h0BHUlvxuKFj",
        "outputId": "25d18815-5fdc-4be6-e696-b505bf4c18af"
      },
      "source": [
        "# f) Realizar selección de características usando SelectFromModel\n",
        "\n",
        "#Entrena y encuentra las mejores características\n",
        "selector = SelectFromModel(estimator=model.best_estimator_).fit(train, class_train)\n",
        "\n",
        "#Muestra si las características fueron elegidas\n",
        "best_c=selector.get_support()\n",
        "#print(best_c)\n",
        "\n",
        "#Muestra las características elegidas\n",
        "elegidas=list()\n",
        "for i in range(len(columns)-1):\n",
        "  if best_c[i]==True:\n",
        "    elegidas.append(columns[i])\n",
        "    #print(columns[i])\n",
        "print('Las características elegidas fueron: '+str(elegidas))\n",
        "\n"
      ],
      "execution_count": 7,
      "outputs": [
        {
          "output_type": "stream",
          "text": [
            "Las características elegidas fueron: ['preg', 'plas', 'mass']\n"
          ],
          "name": "stdout"
        }
      ]
    },
    {
      "cell_type": "code",
      "metadata": {
        "colab": {
          "base_uri": "https://localhost:8080/"
        },
        "id": "ej5HoSN74WIE",
        "outputId": "153465de-ec30-4cd0-9910-212127789f5e"
      },
      "source": [
        "#g) Entrenar un segundo clasificador con el conjunto de características reducido\n",
        "\n",
        "\n",
        "#Primero se reducen los conjuntos sólo a las características seleccionadas\n",
        "\n",
        "#Reduce el número de características \n",
        "r_train=selector.transform(train)\n",
        "r_val=selector.transform(val)\n",
        "r_test=selector.transform(test)\n",
        "\n",
        "#Entrenamiento de un segundo clasificador \n",
        "#Se concatenan los conjuntos entrenamiento y val con características reducidas\n",
        "r_train_val=np.concatenate([r_train,r_val])\n",
        "\n",
        "#Hora inicial en segundos\n",
        "time0_2=time.time()\n",
        "\n",
        "# Las clases e índices siguen siendo los mismss que para el caso anterior\n",
        "# Luego, se entrena con el nuevo conjunto concatenado de train y val\n",
        "model_2=GridSearchCV(estimator=svm.SVC(), param_grid={'C':[0.0001, 0.001,0.1],'kernel':['linear']}, cv=p)\n",
        "#Entrena el modelo\n",
        "model_2.fit(r_train_val, class_train_val)\n",
        "print(model_2.best_estimator_)\n",
        "print('El best score del clasificador svm es: '+str(model_2.best_score_))\n",
        "\n",
        "#Hora final en segundos\n",
        "time1_2=time.time()\n",
        "#Tiempo que se demora el entrenamiento\n",
        "time_train_2=time1_2-time0_2\n",
        "print('El tiempo de entrenamiento es: '+str(time_train_2))"
      ],
      "execution_count": 8,
      "outputs": [
        {
          "output_type": "stream",
          "text": [
            "SVC(C=0.1, break_ties=False, cache_size=200, class_weight=None, coef0=0.0,\n",
            "    decision_function_shape='ovr', degree=3, gamma='scale', kernel='linear',\n",
            "    max_iter=-1, probability=False, random_state=None, shrinking=True,\n",
            "    tol=0.001, verbose=False)\n",
            "El best score del clasificador svm es: 0.7662337662337663\n",
            "El tiempo de entrenamiento es: 0.019629478454589844\n"
          ],
          "name": "stdout"
        }
      ]
    },
    {
      "cell_type": "code",
      "metadata": {
        "colab": {
          "base_uri": "https://localhost:8080/",
          "height": 581
        },
        "id": "N3CxyfpcQn86",
        "outputId": "1f45d512-6a46-417b-c917-d9084993831d"
      },
      "source": [
        "# h) Generar una matriz de confusión normalizada para el clasificador \n",
        "# características reducidas\n",
        "\n",
        "#Predicción usando el modelo_lineal\n",
        "pred_val_2=model_2.predict(r_val) \n",
        "\n",
        "#Matriz de confusión normalizada True\n",
        "mc_val_t2=confusion_matrix(class_val,pred_val_2, labels=[0,1], normalize='true')\n",
        "#print(mc_val_t2)\n",
        "sb.heatmap(mc_val_t2, annot=True)\n",
        "plt.show()\n",
        "\n",
        "#Matriz de confusión normalizada All\n",
        "mc_val_a2=confusion_matrix(class_val,pred_val_2, labels=[0,1], normalize='all')\n",
        "#print(mc_val_a2)\n",
        "sb.heatmap(mc_val_a2, annot=True)\n",
        "plt.show()\n",
        "\n",
        "#Métrica Accuracy (promedio diagonales) con normalización 'all'\n",
        "acc_val_2=accuracy_score(class_val,pred_val_2, normalize=True)\n",
        "print('El accuracy mediante la métrica es: '+str(acc_val_2))\n",
        "prom_diagonal2_a=mc_val_a2.diagonal().sum()\n",
        "print('Suma de la diagonal para la matriz de confusión (all): '+str(prom_diagonal2_a))\n",
        "\n",
        "#Métrica Accuracy (promedio diagonales) con normalización 'true'\n",
        "prom_diagonal2_t=mc_val_t2.diagonal().sum()\n",
        "prom_diagonal2_t2=prom_diagonal2_t/2\n",
        "print('Suma de la diagonal para la matriz de confusión (true): '+str(prom_diagonal2_t))\n",
        "print('Promedio de la diagonal para la matriz de confusión (true): '+str(prom_diagonal2_t2))\n"
      ],
      "execution_count": 9,
      "outputs": [
        {
          "output_type": "display_data",
          "data": {
            "image/png": "[encoded data removed]",
            "text/plain": [
              "<Figure size 432x288 with 2 Axes>"
            ]
          },
          "metadata": {
            "tags": [],
            "needs_background": "light"
          }
        },
        {
          "output_type": "display_data",
          "data": {
            "image/png": "[encoded data removed]",
            "text/plain": [
              "<Figure size 432x288 with 2 Axes>"
            ]
          },
          "metadata": {
            "tags": [],
            "needs_background": "light"
          }
        },
        {
          "output_type": "stream",
          "text": [
            "El accuracy mediante la métrica es: 0.7922077922077922\n",
            "Suma de la diagonal para la matriz de confusión (all): 0.7922077922077921\n",
            "Suma de la diagonal para la matriz de confusión (true): 1.5282783229259589\n",
            "Promedio de la diagonal para la matriz de confusión (true): 0.7641391614629794\n"
          ],
          "name": "stdout"
        }
      ]
    },
    {
      "cell_type": "code",
      "metadata": {
        "colab": {
          "base_uri": "https://localhost:8080/",
          "height": 700
        },
        "id": "CXB3liHzSCLS",
        "outputId": "9d667b4e-3207-4227-c231-2edd9aed9830"
      },
      "source": [
        "#i) Repetir los pasos g) y h) usando un clasificador svm lineal, \n",
        "# eligiendo las 4 mejores características encontradas por SelectKBest\n",
        "\n",
        "# Entrena y encuentra las mejores características \n",
        "selectorK=SelectKBest(k=4).fit(train,class_train)\n",
        "#Muestra si las caracteristicas fueron elegidas\n",
        "best_k=selectorK.get_support()\n",
        "#print(best_k)\n",
        "#Muestra las características elegidas\n",
        "elegidas3=list()\n",
        "for i in range(len(columns)-1):\n",
        "  if best_k[i]==True:\n",
        "    #print(columns[i])\n",
        "    elegidas3.append(columns[i])\n",
        "print('Las características elegidas fueron: '+str(elegidas3))\n",
        "\n",
        "#Primero se reducen los conjuntos sólo a las características seleccionadas\n",
        "\n",
        "#Reduce el número de características \n",
        "r_train_3=selectorK.transform(train)\n",
        "r_val_3=selectorK.transform(val)\n",
        "r_test_3=selectorK.transform(test)\n",
        "\n",
        "#Entrenamiento de un clasificador svm lineal\n",
        "#Se concatenan los conjuntos entrenamiento y val con características reducidas\n",
        "r_train_val_3=np.concatenate([r_train_3,r_val_3])\n",
        "\n",
        "#Hora inicial en segundos\n",
        "time0_3=time.time()\n",
        "\n",
        "# Las clases e índices siguen siendo los mismos que para el caso anterior\n",
        "# Luego, se entrena con el nuevo conjunto concatenado de train y val\n",
        "model_3=GridSearchCV(estimator=svm.SVC(), param_grid={'C':[0.0001, 0.001,0.1],'kernel':['linear']}, cv=p)\n",
        "#Entrena el modelo\n",
        "model_3.fit(r_train_val_3, class_train_val)\n",
        "print(model_3.best_estimator_)\n",
        "print('El best score del clasificador svm es: '+str(model_3.best_score_))\n",
        "\n",
        "#Hora final en segundos\n",
        "time1_3=time.time()\n",
        "#Tiempo que se demora el entrenamiento\n",
        "time_train_3=time1_3-time0_3\n",
        "print('El tiempo de entrenamiento es: '+str(time_train_3))\n",
        "\n",
        "#Predicción usando el modelo_lineal\n",
        "pred_val_3=model_3.predict(r_val_3) \n",
        "\n",
        "#Matriz de confusión normalizada True\n",
        "mc_val_t3=confusion_matrix(class_val,pred_val_3, labels=[0,1], normalize='true')\n",
        "#print(mc_val_t3)\n",
        "sb.heatmap(mc_val_t3, annot=True)\n",
        "plt.show()\n",
        "\n",
        "#Matriz de confusión normalizada All\n",
        "mc_val_a3=confusion_matrix(class_val,pred_val_3, labels=[0,1], normalize='all')\n",
        "#print(mc_val_a3)\n",
        "sb.heatmap(mc_val_a3, annot=True)\n",
        "plt.show()\n",
        "\n",
        "#Métrica Accuracy (promedio diagonales) con normalización 'all'\n",
        "acc_val_3=accuracy_score(class_val,pred_val_3, normalize=True)\n",
        "print('El accuracy mediante la métrica es: '+str(acc_val_3))\n",
        "prom_diagonal3_a=mc_val_a3.diagonal().sum()\n",
        "print('Suma de la diagonal para la matriz de confusión (all): '+str(prom_diagonal3_a))\n",
        "\n",
        "#Métrica Accuracy (promedio diagonales) con normalización 'true'\n",
        "prom_diagonal3_t=mc_val_t3.diagonal().sum()\n",
        "prom_diagonal3_t2=prom_diagonal3_t/2\n",
        "print('Suma de la diagonal para la matriz de confusión (true): '+str(prom_diagonal3_t))\n",
        "print('Promedio de la diagonal para la matriz de confusión (true): '+str(prom_diagonal3_t2))\n",
        "\n"
      ],
      "execution_count": 10,
      "outputs": [
        {
          "output_type": "stream",
          "text": [
            "Las características elegidas fueron: ['preg', 'plas', 'mass', 'age']\n",
            "SVC(C=0.1, break_ties=False, cache_size=200, class_weight=None, coef0=0.0,\n",
            "    decision_function_shape='ovr', degree=3, gamma='scale', kernel='linear',\n",
            "    max_iter=-1, probability=False, random_state=None, shrinking=True,\n",
            "    tol=0.001, verbose=False)\n",
            "El best score del clasificador svm es: 0.7662337662337663\n",
            "El tiempo de entrenamiento es: 0.022139787673950195\n"
          ],
          "name": "stdout"
        },
        {
          "output_type": "display_data",
          "data": {
            "image/png": "[encoded data removed]",
            "text/plain": [
              "<Figure size 432x288 with 2 Axes>"
            ]
          },
          "metadata": {
            "tags": [],
            "needs_background": "light"
          }
        },
        {
          "output_type": "display_data",
          "data": {
            "image/png": "[encoded data removed]",
            "text/plain": [
              "<Figure size 432x288 with 2 Axes>"
            ]
          },
          "metadata": {
            "tags": [],
            "needs_background": "light"
          }
        },
        {
          "output_type": "stream",
          "text": [
            "El accuracy mediante la métrica es: 0.7792207792207793\n",
            "Suma de la diagonal para la matriz de confusión (all): 0.7792207792207791\n",
            "Suma de la diagonal para la matriz de confusión (true): 1.5072256913470117\n",
            "Promedio de la diagonal para la matriz de confusión (true): 0.7536128456735058\n"
          ],
          "name": "stdout"
        }
      ]
    },
    {
      "cell_type": "code",
      "metadata": {
        "colab": {
          "base_uri": "https://localhost:8080/",
          "height": 700
        },
        "id": "wJ4c4J8Ickt5",
        "outputId": "68bcb526-e494-4dc4-c801-954ef49f3538"
      },
      "source": [
        "#j) Repetir los pasos g) y h) usando un clasificador svm lineal, \n",
        "# eligiendo las 2 mejores características encontradas por SelectKBest\n",
        "\n",
        "# Entrena y encuentra las mejores características \n",
        "selectorK_2=SelectKBest(k=2).fit(train,class_train)\n",
        "#Muestra si las caracteristicas fueron elegidas\n",
        "best_k_2=selectorK_2.get_support()\n",
        "#print(best_k_2)\n",
        "\n",
        "#Muestra las características elegidas\n",
        "elegidask2=list()\n",
        "for i in range(len(columns)-1):\n",
        "  if best_k_2[i]==True:\n",
        "    #print(columns[i])\n",
        "    elegidask2.append(columns[i])\n",
        "print('Las características elegidas fueron: '+str(elegidask2))\n",
        "\n",
        "#Primero se reducen los conjuntos sólo a las características seleccionadas\n",
        "\n",
        "#Reduce el número de características \n",
        "r_train_4=selectorK_2.transform(train)\n",
        "r_val_4=selectorK_2.transform(val)\n",
        "r_test_4=selectorK_2.transform(test)\n",
        "\n",
        "#Entrenamiento de un clasificador svm lineal\n",
        "#Se concatenan los conjuntos entrenamiento y val con características reducidas\n",
        "r_train_val_4=np.concatenate([r_train_4,r_val_4])\n",
        "\n",
        "#Hora inicial en segundos\n",
        "time0_4=time.time()\n",
        "\n",
        "# Las clases e índices siguen siendo los mismos que para el caso anterior\n",
        "# Luego, se entrena con el nuevo conjunto concatenado de train y val\n",
        "model_4=GridSearchCV(estimator=svm.SVC(), param_grid={'C':[0.0001, 0.001,0.1],'kernel':['linear']}, cv=p)\n",
        "#Entrena el modelo\n",
        "model_4.fit(r_train_val_4, class_train_val)\n",
        "print(model_4.best_estimator_)\n",
        "print('El best score del clasificador svm es: '+str(model_4.best_score_))\n",
        "\n",
        "#Hora final en segundos\n",
        "time1_4=time.time()\n",
        "#Tiempo que se demora el entrenamiento\n",
        "time_train_4=time1_4-time0_4\n",
        "print('El tiempo de entrenamiento es: '+str(time_train_4))\n",
        "\n",
        "#Predicción usando el modelo_lineal\n",
        "pred_val_4=model_4.predict(r_val_4) \n",
        "\n",
        "#Matriz de confusión normalizada True\n",
        "mc_val_t4=confusion_matrix(class_val,pred_val_4, labels=[0,1], normalize='true')\n",
        "#print(mc_val_t4)\n",
        "sb.heatmap(mc_val_t4, annot=True)\n",
        "plt.show()\n",
        "\n",
        "#Matriz de confusión normalizada All\n",
        "mc_val_a4=confusion_matrix(class_val,pred_val_4, labels=[0,1], normalize='all')\n",
        "#print(mc_val_a4)\n",
        "sb.heatmap(mc_val_a4, annot=True)\n",
        "plt.show()\n",
        "\n",
        "#Métrica Accuracy (promedio diagonales) con normalización 'all'\n",
        "acc_val_4=accuracy_score(class_val,pred_val_4, normalize=True)\n",
        "print('El accuracy mediante la métrica es: '+str(acc_val_4))\n",
        "prom_diagonal4_a=mc_val_a4.diagonal().sum()\n",
        "print('Suma de la diagonal para la matriz de confusión (all): '+str(prom_diagonal4_a))\n",
        "\n",
        "#Métrica Accuracy (promedio diagonales) con normalización 'true'\n",
        "prom_diagonal4_t=mc_val_t4.diagonal().sum()\n",
        "prom_diagonal4_t2=prom_diagonal4_t/2\n",
        "print('Suma de la diagonal para la matriz de confusión (true): '+str(prom_diagonal4_t))\n",
        "print('Promedio de la diagonal para la matriz de confusión (true): '+str(prom_diagonal4_t2))\n"
      ],
      "execution_count": 11,
      "outputs": [
        {
          "output_type": "stream",
          "text": [
            "Las características elegidas fueron: ['preg', 'plas']\n",
            "SVC(C=0.1, break_ties=False, cache_size=200, class_weight=None, coef0=0.0,\n",
            "    decision_function_shape='ovr', degree=3, gamma='scale', kernel='linear',\n",
            "    max_iter=-1, probability=False, random_state=None, shrinking=True,\n",
            "    tol=0.001, verbose=False)\n",
            "El best score del clasificador svm es: 0.7597402597402597\n",
            "El tiempo de entrenamiento es: 0.021710634231567383\n"
          ],
          "name": "stdout"
        },
        {
          "output_type": "display_data",
          "data": {
            "image/png": "[encoded data removed]",
            "text/plain": [
              "<Figure size 432x288 with 2 Axes>"
            ]
          },
          "metadata": {
            "tags": [],
            "needs_background": "light"
          }
        },
        {
          "output_type": "display_data",
          "data": {
            "image/png": "[encoded data removed]",
            "text/plain": [
              "<Figure size 432x288 with 2 Axes>"
            ]
          },
          "metadata": {
            "tags": [],
            "needs_background": "light"
          }
        },
        {
          "output_type": "stream",
          "text": [
            "El accuracy mediante la métrica es: 0.7597402597402597\n",
            "Suma de la diagonal para la matriz de confusión (all): 0.7597402597402597\n",
            "Suma de la diagonal para la matriz de confusión (true): 1.4499553969669938\n",
            "Promedio de la diagonal para la matriz de confusión (true): 0.7249776984834969\n"
          ],
          "name": "stdout"
        }
      ]
    },
    {
      "cell_type": "code",
      "metadata": {
        "colab": {
          "base_uri": "https://localhost:8080/",
          "height": 751
        },
        "id": "sWHOhpCaft6E",
        "outputId": "574db8d6-0fb4-4a12-822b-02bdf58b33b7"
      },
      "source": [
        "#k) Repetir el paso d) y e) usando un clasificador RandomForest, \n",
        "# con una profundidad de 3 y usando una grillasobre el hiperparámetro n_estimators\n",
        "\n",
        "#Hora inicial en segundos\n",
        "time0_random=time.time()\n",
        "\n",
        "#Se crea el estimador directamente desde la función GridSearchCV()\n",
        "#Define el mejor valor de los parámetros\n",
        "model_random=GridSearchCV(estimator=RandomForestClassifier(), param_grid={'max_depth':[3],'n_estimators':[50,100,150,200,250]}, cv=p)\n",
        "#Entrena el modelo RandomForestClassifier()\n",
        "model_random.fit(train_val, class_train_val)\n",
        "#Muestra el resultado de los mejores parámetros\n",
        "print(model_random.best_estimator_)\n",
        "print('El best score del clasificador RandomForest es: '+str(model_random.best_score_))\n",
        "\n",
        "#Hora final en segundos\n",
        "time1_random=time.time()\n",
        "#Tiempo que se demora el entrenamiento\n",
        "time_train_random=time1_random-time0_random\n",
        "print('El tiempo de entrenamiento es: '+str(time_train_random))\n",
        "\n",
        "#Predicción usando el RandomForest\n",
        "pred_val_random=model_random.predict(val) \n",
        "\n",
        "#Matriz de confusión normalizada True\n",
        "mc_val_t_random=confusion_matrix(class_val,pred_val_random, labels=[0,1], normalize='true')\n",
        "#print(mc_val_t_random)\n",
        "sb.heatmap(mc_val_t_random, annot=True)\n",
        "plt.show()\n",
        "\n",
        "#Matriz de confusión normalizada All\n",
        "mc_val_a_random=confusion_matrix(class_val,pred_val_random, labels=[0,1], normalize='all')\n",
        "#print(mc_val_a_random)\n",
        "sb.heatmap(mc_val_a_random, annot=True)\n",
        "plt.show()\n",
        "\n",
        "#Métrica Accuracy (promedio diagonales) con normalización 'all'\n",
        "acc_val_random=accuracy_score(class_val,pred_val_random, normalize=True)\n",
        "print('El accuracy mediante la métrica es: '+str(acc_val_random))\n",
        "prom_diagonal_random_a=mc_val_a_random.diagonal().sum()\n",
        "print('Suma de la diagonal para la matriz de confusión (all): '+str(prom_diagonal_random_a))\n",
        "\n",
        "#Métrica Accuracy (promedio diagonales) con normalización 'true'\n",
        "prom_diagonal_random_t=mc_val_t_random.diagonal().sum()\n",
        "prom_diagonal_random_t2=prom_diagonal_random_t/2\n",
        "print('Suma de la diagonal para la matriz de confusión (true): '+str(prom_diagonal_random_t))\n",
        "print('Promedio de la diagonal para la matriz de confusión (true): '+str(prom_diagonal_random_t2))\n",
        "\n",
        "\n"
      ],
      "execution_count": 12,
      "outputs": [
        {
          "output_type": "stream",
          "text": [
            "RandomForestClassifier(bootstrap=True, ccp_alpha=0.0, class_weight=None,\n",
            "                       criterion='gini', max_depth=3, max_features='auto',\n",
            "                       max_leaf_nodes=None, max_samples=None,\n",
            "                       min_impurity_decrease=0.0, min_impurity_split=None,\n",
            "                       min_samples_leaf=1, min_samples_split=2,\n",
            "                       min_weight_fraction_leaf=0.0, n_estimators=200,\n",
            "                       n_jobs=None, oob_score=False, random_state=None,\n",
            "                       verbose=0, warm_start=False)\n",
            "El best score del clasificador RandomForest es: 0.7727272727272727\n",
            "El tiempo de entrenamiento es: 1.630774736404419\n"
          ],
          "name": "stdout"
        },
        {
          "output_type": "display_data",
          "data": {
            "image/png": "[encoded data removed]",
            "text/plain": [
              "<Figure size 432x288 with 2 Axes>"
            ]
          },
          "metadata": {
            "tags": [],
            "needs_background": "light"
          }
        },
        {
          "output_type": "display_data",
          "data": {
            "image/png": "[encoded data removed]",
            "text/plain": [
              "<Figure size 432x288 with 2 Axes>"
            ]
          },
          "metadata": {
            "tags": [],
            "needs_background": "light"
          }
        },
        {
          "output_type": "stream",
          "text": [
            "El accuracy mediante la métrica es: 0.8051948051948052\n",
            "Suma de la diagonal para la matriz de confusión (all): 0.8051948051948051\n",
            "Suma de la diagonal para la matriz de confusión (true): 1.5364852809991079\n",
            "Promedio de la diagonal para la matriz de confusión (true): 0.7682426404995539\n"
          ],
          "name": "stdout"
        }
      ]
    },
    {
      "cell_type": "code",
      "metadata": {
        "colab": {
          "base_uri": "https://localhost:8080/",
          "height": 768
        },
        "id": "Odi2zzsXn1Q9",
        "outputId": "8161f055-8d4b-4dff-b4ff-baaa48494cef"
      },
      "source": [
        "#l) Repetir los pasos g) y h) usando un clasificador RandomForest, usando\n",
        "# el selector de características SelectFromModel\n",
        "\n",
        "#Entrena y encuentra las mejores características\n",
        "selector_random = SelectFromModel(estimator=model_random.best_estimator_).fit(train, class_train)\n",
        "#Muestra si las características fueron elegidas\n",
        "best_random=selector_random.get_support()\n",
        "#print(best_random)\n",
        "#Muestra las características elegidas\n",
        "elegidasr=list()\n",
        "for i in range(len(columns)-1):\n",
        "  if best_random[i]==True:\n",
        "    #print(columns[i])\n",
        "    elegidasr.append(columns[i])\n",
        "print('Las características elegidas fueron: '+str(elegidasr))\n",
        "\n",
        "#Primero se reducen los conjuntos sólo a las características seleccionadas\n",
        "\n",
        "#Reduce el número de características \n",
        "random_train=selector_random.transform(train)\n",
        "random_val=selector_random.transform(val)\n",
        "random_test=selector_random.transform(test)\n",
        "\n",
        "#Entrenamiento de un segundo clasificador \n",
        "#Se concatenan los conjuntos entrenamiento y val con características reducidas\n",
        "random_train_val=np.concatenate([random_train,random_val])\n",
        "\n",
        "#Hora inicial en segundos\n",
        "time0_r=time.time()\n",
        "\n",
        "# Las clases e índices siguen siendo los mismss que para el caso anterior\n",
        "# Luego, se entrena con el nuevo conjunto concatenado de train y val\n",
        "model_random2=GridSearchCV(estimator=RandomForestClassifier(), param_grid={'max_depth':[3],'n_estimators':[50,100,150,200,250]}, cv=p)\n",
        "#Entrena el modelo\n",
        "model_random2.fit(random_train_val, class_train_val)\n",
        "print(model_random2.best_estimator_)\n",
        "print('El best score del clasificador RandomForest es: '+str(model_random2.best_score_))\n",
        "\n",
        "#Hora final en segundos\n",
        "time1_r=time.time()\n",
        "#Tiempo que se demora el entrenamiento\n",
        "time_train_r=time1_r-time0_r\n",
        "print('El tiempo de entrenamiento es: '+str(time_train_r))\n",
        "\n",
        "#Predicción usando el modelo_lineal\n",
        "pred_val_random2=model_random2.predict(random_val) \n",
        "\n",
        "#Matriz de confusión normalizada True\n",
        "mc_val_t_random2=confusion_matrix(class_val,pred_val_random2, labels=[0,1], normalize='true')\n",
        "#print(mc_val_t_random2)\n",
        "sb.heatmap(mc_val_t_random2, annot=True)\n",
        "plt.show()\n",
        "\n",
        "#Matriz de confusión normalizada All\n",
        "mc_val_a_random2=confusion_matrix(class_val,pred_val_random2, labels=[0,1], normalize='all')\n",
        "#print(mc_val_a_random2)\n",
        "sb.heatmap(mc_val_a_random2, annot=True)\n",
        "plt.show()\n",
        "\n",
        "#Métrica Accuracy (promedio diagonales) con normalización 'all'\n",
        "acc_val_random2=accuracy_score(class_val,pred_val_random2, normalize=True)\n",
        "print('El accuracy mediante la métrica es: '+str(acc_val_random2))\n",
        "prom_diagonal_random2_a=mc_val_a_random2.diagonal().sum()\n",
        "print('Suma de la diagonal para la matriz de confusión (all): '+str(prom_diagonal_random2_a))\n",
        "\n",
        "#Métrica Accuracy (promedio diagonales) con normalización 'true'\n",
        "prom_diagonal_random2_t=mc_val_t_random2.diagonal().sum()\n",
        "prom_diagonal_random2_t2=prom_diagonal_random2_t/2\n",
        "print('Suma de la diagonal para la matriz de confusión (true): '+str(prom_diagonal_random2_t))\n",
        "print('Promedio de la diagonal para la matriz de confusión (true): '+str(prom_diagonal_random2_t2))\n",
        "\n"
      ],
      "execution_count": 13,
      "outputs": [
        {
          "output_type": "stream",
          "text": [
            "Las características elegidas fueron: ['plas', 'mass', 'age']\n",
            "RandomForestClassifier(bootstrap=True, ccp_alpha=0.0, class_weight=None,\n",
            "                       criterion='gini', max_depth=3, max_features='auto',\n",
            "                       max_leaf_nodes=None, max_samples=None,\n",
            "                       min_impurity_decrease=0.0, min_impurity_split=None,\n",
            "                       min_samples_leaf=1, min_samples_split=2,\n",
            "                       min_weight_fraction_leaf=0.0, n_estimators=250,\n",
            "                       n_jobs=None, oob_score=False, random_state=None,\n",
            "                       verbose=0, warm_start=False)\n",
            "El best score del clasificador RandomForest es: 0.7922077922077922\n",
            "El tiempo de entrenamiento es: 1.6003315448760986\n"
          ],
          "name": "stdout"
        },
        {
          "output_type": "display_data",
          "data": {
            "image/png": "[encoded data removed]",
            "text/plain": [
              "<Figure size 432x288 with 2 Axes>"
            ]
          },
          "metadata": {
            "tags": [],
            "needs_background": "light"
          }
        },
        {
          "output_type": "display_data",
          "data": {
            "image/png": "[encoded data removed]",
            "text/plain": [
              "<Figure size 432x288 with 2 Axes>"
            ]
          },
          "metadata": {
            "tags": [],
            "needs_background": "light"
          }
        },
        {
          "output_type": "stream",
          "text": [
            "El accuracy mediante la métrica es: 0.8051948051948052\n",
            "Suma de la diagonal para la matriz de confusión (all): 0.8051948051948052\n",
            "Suma de la diagonal para la matriz de confusión (true): 1.5557537912578057\n",
            "Promedio de la diagonal para la matriz de confusión (true): 0.7778768956289028\n"
          ],
          "name": "stdout"
        }
      ]
    },
    {
      "cell_type": "code",
      "metadata": {
        "colab": {
          "base_uri": "https://localhost:8080/",
          "height": 768
        },
        "id": "qJKVFnqJtNLF",
        "outputId": "ab91d15d-b8c3-46a6-f007-37ac0cb21141"
      },
      "source": [
        "# m) Repetir los pasos g) y h) usando un clasificador RandomForest, eligiendo\n",
        "# las 4 mejores características encontradas por SelectKBest\n",
        "\n",
        "# Entrena y encuentra las mejores características \n",
        "selectorK_random=SelectKBest(k=4).fit(train,class_train)\n",
        "#Muestra si las caracteristicas fueron elegidas\n",
        "best_krandom=selectorK_random.get_support()\n",
        "#print(best_krandom)\n",
        "#Muestra las características elegidas\n",
        "elegidasr2=list()\n",
        "for i in range(len(columns)-1):\n",
        "  if best_krandom[i]==True:\n",
        "    #print(columns[i])\n",
        "    elegidasr2.append(columns[i])\n",
        "print('Las características elegidas fueron: '+str(elegidasr2))\n",
        "\n",
        "#Primero se reducen los conjuntos sólo a las características seleccionadas\n",
        "\n",
        "#Reduce el número de características \n",
        "random_train3=selectorK_random.transform(train)\n",
        "random_val3=selectorK_random.transform(val)\n",
        "random_test3=selectorK_random.transform(test)\n",
        "\n",
        "#Entrenamiento de un clasificador RandomForest\n",
        "#Se concatenan los conjuntos entrenamiento y val con características reducidas\n",
        "random_train_val3=np.concatenate([random_train3,random_val3])\n",
        "\n",
        "#Hora inicial en segundos\n",
        "time0_r3=time.time()\n",
        "\n",
        "# Las clases e índices siguen siendo los mismos que para el caso anterior\n",
        "# Luego, se entrena con el nuevo conjunto concatenado de train y val\n",
        "model_random3=GridSearchCV(estimator=RandomForestClassifier(), param_grid={'max_depth':[3],'n_estimators':[50,100,150,200,250]}, cv=p)\n",
        "#Entrena el modelo\n",
        "model_random3.fit(random_train_val3, class_train_val)\n",
        "print(model_random3.best_estimator_)\n",
        "print('El best score del clasificador RandomForest es: '+str(model_random3.best_score_))\n",
        "\n",
        "#Hora final en segundos\n",
        "time1_r3=time.time()\n",
        "#Tiempo que se demora el entrenamiento\n",
        "time_train_r3=time1_r3-time0_r3\n",
        "print('El tiempo de entrenamiento es: '+str(time_train_r3))\n",
        "\n",
        "#Predicción usando el modelo RandomForest\n",
        "pred_val_random3=model_random3.predict(random_val3) \n",
        "\n",
        "#Matriz de confusión normalizada True\n",
        "mc_val_trandom3=confusion_matrix(class_val,pred_val_random3, labels=[0,1], normalize='true')\n",
        "#print(mc_val_trandom3)\n",
        "sb.heatmap(mc_val_trandom3, annot=True)\n",
        "plt.show()\n",
        "\n",
        "#Matriz de confusión normalizada All\n",
        "mc_val_arandom3=confusion_matrix(class_val,pred_val_random3, labels=[0,1], normalize='all')\n",
        "#print(mc_val_ar3)\n",
        "sb.heatmap(mc_val_arandom3, annot=True)\n",
        "plt.show()\n",
        "\n",
        "#Métrica Accuracy (promedio diagonales) con normalización 'all'\n",
        "acc_val_random3=accuracy_score(class_val,pred_val_random3, normalize=True)\n",
        "print('El accuracy mediante la métrica es: '+str(acc_val_random3))\n",
        "prom_diagonal_random3_a=mc_val_arandom3.diagonal().sum()\n",
        "print('Suma de la diagonal para la matriz de confusión (all): '+str(prom_diagonal_random3_a))\n",
        "\n",
        "#Métrica Accuracy (promedio diagonales) con normalización 'true'\n",
        "prom_diagonal_random3_t=mc_val_trandom3.diagonal().sum()\n",
        "prom_diagonal_random3_t2=prom_diagonal_random3_t/2\n",
        "print('Suma de la diagonal para la matriz de confusión (true): '+str(prom_diagonal_random3_t))\n",
        "print('Promedio de la diagonal para la matriz de confusión (true): '+str(prom_diagonal_random3_t2))\n",
        "\n"
      ],
      "execution_count": 14,
      "outputs": [
        {
          "output_type": "stream",
          "text": [
            "Las características elegidas fueron: ['preg', 'plas', 'mass', 'age']\n",
            "RandomForestClassifier(bootstrap=True, ccp_alpha=0.0, class_weight=None,\n",
            "                       criterion='gini', max_depth=3, max_features='auto',\n",
            "                       max_leaf_nodes=None, max_samples=None,\n",
            "                       min_impurity_decrease=0.0, min_impurity_split=None,\n",
            "                       min_samples_leaf=1, min_samples_split=2,\n",
            "                       min_weight_fraction_leaf=0.0, n_estimators=50,\n",
            "                       n_jobs=None, oob_score=False, random_state=None,\n",
            "                       verbose=0, warm_start=False)\n",
            "El best score del clasificador RandomForest es: 0.7922077922077922\n",
            "El tiempo de entrenamiento es: 1.3443107604980469\n"
          ],
          "name": "stdout"
        },
        {
          "output_type": "display_data",
          "data": {
            "image/png": "[encoded data removed]",
            "text/plain": [
              "<Figure size 432x288 with 2 Axes>"
            ]
          },
          "metadata": {
            "tags": [],
            "needs_background": "light"
          }
        },
        {
          "output_type": "display_data",
          "data": {
            "image/png": "[encoded data removed]",
            "text/plain": [
              "<Figure size 432x288 with 2 Axes>"
            ]
          },
          "metadata": {
            "tags": [],
            "needs_background": "light"
          }
        },
        {
          "output_type": "stream",
          "text": [
            "El accuracy mediante la métrica es: 0.8051948051948052\n",
            "Suma de la diagonal para la matriz de confusión (all): 0.8051948051948052\n",
            "Suma de la diagonal para la matriz de confusión (true): 1.542908117752007\n",
            "Promedio de la diagonal para la matriz de confusión (true): 0.7714540588760035\n"
          ],
          "name": "stdout"
        }
      ]
    },
    {
      "cell_type": "code",
      "metadata": {
        "colab": {
          "base_uri": "https://localhost:8080/",
          "height": 771
        },
        "id": "aFVFAdaxHm6-",
        "outputId": "7088dda8-8beb-487a-83c6-53f86ea7a8b4"
      },
      "source": [
        "# n) Repetir los pasos g) y h) usando un clasificador RandomForest, eligiendo\n",
        "# las 2 mejores características encontradas por SelectKBest\n",
        "\n",
        "# Entrena y encuentra las mejores características \n",
        "selectorK_random2=SelectKBest(k=2).fit(train,class_train)\n",
        "#Muestra si las caracteristicas fueron elegidas\n",
        "best_krandom2=selectorK_random2.get_support()\n",
        "#print(best_krandom2)\n",
        "#Muestra las características elegidas\n",
        "elegidasrk2=list()\n",
        "for i in range(len(columns)-1):\n",
        "  if best_krandom2[i]==True:\n",
        "    #print(columns[i])\n",
        "    elegidasrk2.append(columns[i])\n",
        "print('Las características elegidas fueron: '+str(elegidasrk2))\n",
        "\n",
        "#Primero se reducen los conjuntos sólo a las características seleccionadas\n",
        "\n",
        "#Reduce el número de características \n",
        "random_train4=selectorK_random2.transform(train)\n",
        "random_val4=selectorK_random2.transform(val)\n",
        "random_test4=selectorK_random2.transform(test)\n",
        "\n",
        "#Entrenamiento de un clasificador RandomForest\n",
        "#Se concatenan los conjuntos entrenamiento y val con características reducidas\n",
        "random_train_val4=np.concatenate([random_train4,random_val4])\n",
        "\n",
        "#Hora inicial en segundos\n",
        "time0_r4=time.time()\n",
        "\n",
        "# Las clases e índices siguen siendo los mismos que para el caso anterior\n",
        "# Luego, se entrena con el nuevo conjunto concatenado de train y val\n",
        "model_random4=GridSearchCV(estimator=RandomForestClassifier(), param_grid={'max_depth':[3],'n_estimators':[50,100,150,200,250]}, cv=p)\n",
        "#Entrena el modelo\n",
        "model_random4.fit(random_train_val4, class_train_val)\n",
        "print(model_random4.best_estimator_)\n",
        "print('El best score del clasificador svm es: '+str(model_4.best_score_))\n",
        "\n",
        "\n",
        "#Hora final en segundos\n",
        "time1_r4=time.time()\n",
        "#Tiempo que se demora el entrenamiento\n",
        "time_train_r4=time1_r4-time0_r4\n",
        "print('El tiempo de entrenamiento es: '+str(time_train_r4))\n",
        "\n",
        "#Predicción usando el modelo RandomForest\n",
        "pred_val_random4=model_random4.predict(random_val4) \n",
        "\n",
        "#Matriz de confusión normalizada True\n",
        "mc_val_trandom4=confusion_matrix(class_val,pred_val_random4, labels=[0,1], normalize='true')\n",
        "#print(mc_val_trandom4)\n",
        "sb.heatmap(mc_val_trandom4, annot=True)\n",
        "plt.show()\n",
        "\n",
        "#Matriz de confusión normalizada All\n",
        "mc_val_arandom4=confusion_matrix(class_val,pred_val_random4, labels=[0,1], normalize='all')\n",
        "#print(mc_val_arandom4)\n",
        "sb.heatmap(mc_val_arandom4, annot=True)\n",
        "plt.show()\n",
        "\n",
        "#Métrica Accuracy (promedio diagonales) con normalización 'all'\n",
        "acc_val_random4=accuracy_score(class_val,pred_val_random4, normalize=True)\n",
        "print('El accuracy mediante la métrica es: '+str(acc_val_random4))\n",
        "prom_diagonal_random4_a=mc_val_arandom4.diagonal().sum()\n",
        "print('Suma de la diagonal para la matriz de confusión (all): '+str(prom_diagonal_random4_a))\n",
        "\n",
        "#Métrica Accuracy (promedio diagonales) con normalización 'true'\n",
        "prom_diagonal_random4_t=mc_val_trandom4.diagonal().sum()\n",
        "prom_diagonal_random4_t2=prom_diagonal_random4_t/2\n",
        "print('Suma de la diagonal para la matriz de confusión (true): '+str(prom_diagonal_random4_t))\n",
        "print('Promedio de la diagonal para la matriz de confusión (true): '+str(prom_diagonal_random4_t2))\n"
      ],
      "execution_count": 15,
      "outputs": [
        {
          "output_type": "stream",
          "text": [
            "Las características elegidas fueron: ['preg', 'plas']\n",
            "RandomForestClassifier(bootstrap=True, ccp_alpha=0.0, class_weight=None,\n",
            "                       criterion='gini', max_depth=3, max_features='auto',\n",
            "                       max_leaf_nodes=None, max_samples=None,\n",
            "                       min_impurity_decrease=0.0, min_impurity_split=None,\n",
            "                       min_samples_leaf=1, min_samples_split=2,\n",
            "                       min_weight_fraction_leaf=0.0, n_estimators=50,\n",
            "                       n_jobs=None, oob_score=False, random_state=None,\n",
            "                       verbose=0, warm_start=False)\n",
            "El best score del clasificador svm es: 0.7597402597402597\n",
            "El tiempo de entrenamiento es: 1.2389092445373535\n"
          ],
          "name": "stdout"
        },
        {
          "output_type": "display_data",
          "data": {
            "image/png": "[encoded data removed]",
            "text/plain": [
              "<Figure size 432x288 with 2 Axes>"
            ]
          },
          "metadata": {
            "tags": [],
            "needs_background": "light"
          }
        },
        {
          "output_type": "display_data",
          "data": {
            "image/png": "[encoded data removed]",
            "text/plain": [
              "<Figure size 432x288 with 2 Axes>"
            ]
          },
          "metadata": {
            "tags": [],
            "needs_background": "light"
          }
        },
        {
          "output_type": "stream",
          "text": [
            "El accuracy mediante la métrica es: 0.7597402597402597\n",
            "Suma de la diagonal para la matriz de confusión (all): 0.7597402597402597\n",
            "Suma de la diagonal para la matriz de confusión (true): 1.4306868867082962\n",
            "Promedio de la diagonal para la matriz de confusión (true): 0.7153434433541481\n"
          ],
          "name": "stdout"
        }
      ]
    },
    {
      "cell_type": "code",
      "metadata": {
        "colab": {
          "base_uri": "https://localhost:8080/",
          "height": 1000
        },
        "id": "SrByk0vPPQ7L",
        "outputId": "a2874df0-1d3f-479e-ae5a-4dca412f74f2"
      },
      "source": [
        "#o) Evalúe el mejor svm y el mejor random forest encontrados con\n",
        "# características reducidas sobre el conjunto de prueba, indicando las matrices\n",
        "# de confusión normalizadas y sus accuracies\n",
        "\n",
        "#Para determinar el mejor clasificador se usará la métrica curva ROC sobre el conjunto de validación\n",
        "\n",
        "#Curva ROC SVM Original\n",
        "decision_svm=model.decision_function(val)\n",
        "FPR_svm, TPR_svm, thresholds_svm = roc_curve(class_val, decision_svm)\n",
        "\n",
        "#Curva ROC SVM SelectFromModel\n",
        "decision_svm_r=model_2.decision_function(r_val)\n",
        "FPR_svm_r, TPR_svm_r, thresholds_svm_r = roc_curve(class_val, decision_svm_r)\n",
        "\n",
        "#Curva ROC SVM SelectKBest(k=4)\n",
        "decision_svm_r3=model_3.decision_function(r_val_3)\n",
        "FPR_svm_r3, TPR_svm_r3, thresholds_svm_r3 = roc_curve(class_val, decision_svm_r3)\n",
        "\n",
        "#Curva ROC SVM SelectKBest(k=2)\n",
        "decision_svm_r4=model_4.decision_function(r_val_4)\n",
        "FPR_svm_r4, TPR_svm_r4, thresholds_svm_r4 = roc_curve(class_val, decision_svm_r4)\n",
        "\n",
        "#Gráfico comparativo de las curvas roc\n",
        "\n",
        "plt.plot(FPR_svm,TPR_svm, label='Original')\n",
        "plt.plot(FPR_svm_r,TPR_svm_r, label='SelectFromModel')\n",
        "plt.plot(FPR_svm_r3,TPR_svm_r3, label='SelectKBest(k=4)')\n",
        "plt.plot(FPR_svm_r4,TPR_svm_r4, label='SelectKBest(k=2)')\n",
        "plt.xlabel('Tasa Falsos Positivos')\n",
        "plt.ylabel('Tasa Verdaderos Positivos')\n",
        "plt.title('Comparación curvas ROC, SVM lineal')\n",
        "plt.legend()\n",
        "plt.grid()\n",
        "plt.show()\n",
        "\n",
        "#Curva ROC RandomForest Original\n",
        "decision_rf=model_random.predict_proba(val)\n",
        "FPR_rf, TPR_rf, thresholds_rf = roc_curve(class_val, decision_rf[:,1])\n",
        "\n",
        "#Curva ROC SVM SelectFromModel\n",
        "decision_rf2=model_random2.predict_proba(random_val)\n",
        "FPR_rf2, TPR_rf2, thresholds_rf2 = roc_curve(class_val, decision_rf2[:,1])\n",
        "\n",
        "#Curva ROC SVM SelectKBest(k=4)\n",
        "decision_rf3=model_random3.predict_proba(random_val3)\n",
        "FPR_rf3, TPR_rf3, thresholds_rf3 = roc_curve(class_val, decision_rf3[:,1])\n",
        "\n",
        "#Curva ROC SVM SelectKBest(k=2)\n",
        "decision_rf4=model_random4.predict_proba(random_val4)\n",
        "FPR_rf4, TPR_rf4, thresholds_rf4 = roc_curve(class_val, decision_rf4[:,1])\n",
        "\n",
        "#Gráfico comparativo de las curvas roc\n",
        "\n",
        "plt.plot(FPR_rf,TPR_rf, label='Original')\n",
        "plt.plot(FPR_rf2,TPR_rf2, label='SelectFromModel')\n",
        "plt.plot(FPR_rf3,TPR_rf3, label='SelectKBest(k=4)')\n",
        "plt.plot(FPR_rf4,TPR_rf4, label='SelectKBest(k=2)')\n",
        "plt.xlabel('Tasa Falsos Positivos')\n",
        "plt.ylabel('Tasa Verdaderos Positivos')\n",
        "plt.title('Comparación curvas ROC, RandomForest')\n",
        "plt.legend()\n",
        "plt.grid()\n",
        "plt.show()\n",
        "\n",
        "\n",
        "#Notemos que para el clasificador svm lineal la mejor opción es aplicarlo a \n",
        "# dos caracteristicas, ya que tiene un accuracy mayor y menor tiempo de entrenamiento\n",
        "\n",
        "#Predicción usando el modelo_lineal (dos caracteristicas)\n",
        "pred_svm_test=model_2.predict(r_test) \n",
        "\n",
        "#Matriz de confusión normalizada True\n",
        "mc_test_t=confusion_matrix(class_val,pred_svm_test, labels=[0,1], normalize='true')\n",
        "#print(mc_test_t)\n",
        "sb.heatmap(mc_test_t, annot=True)\n",
        "plt.show()\n",
        "\n",
        "#Matriz de confusión normalizada All\n",
        "mc_test_a=confusion_matrix(class_val,pred_svm_test, labels=[0,1], normalize='all')\n",
        "#print(mc_test_a)\n",
        "sb.heatmap(mc_test_a, annot=True)\n",
        "plt.show()\n",
        "\n",
        "#Métrica Accuracy (promedio diagonales) con normalización 'all'\n",
        "acc_test=accuracy_score(class_val,pred_svm_test, normalize=True)\n",
        "print('El accuracy mediante la métrica es: '+str(acc_test))\n",
        "prom_diagonal_test_a=mc_test_a.diagonal().sum()\n",
        "print('Suma de la diagonal para la matriz de confusión (all): '+str(prom_diagonal_test_a))\n",
        "\n",
        "#Métrica Accuracy (promedio diagonales) con normalización 'true'\n",
        "prom_diagonal_test_t=mc_test_t.diagonal().sum()\n",
        "prom_diagonal_test_t2=prom_diagonal_test_t/2\n",
        "print('Suma de la diagonal para la matriz de confusión (true): '+str(prom_diagonal_test_t))\n",
        "print('Promedio de la diagonal para la matriz de confusión (true): '+str(prom_diagonal_test_t2))\n",
        "\n",
        "#Luego, para el clasificador RandomForest se eligió el que trabaja con 3 caracteristicas\n",
        "\n",
        "#Predicción usando el modelo_lineal (dos caracteristicas)\n",
        "pred_random_test=model_random2.predict(random_test) \n",
        "\n",
        "#Matriz de confusión normalizada True\n",
        "mc_test_randomt=confusion_matrix(class_val,pred_random_test, labels=[0,1], normalize='true')\n",
        "#print(mc_test_randomt)\n",
        "sb.heatmap(mc_test_randomt,annot=True)\n",
        "plt.show()\n",
        "\n",
        "#Matriz de confusión normalizada All\n",
        "mc_test_randoma=confusion_matrix(class_val,pred_random_test, labels=[0,1], normalize='all')\n",
        "#print(mc_test_randoma)\n",
        "sb.heatmap(mc_test_randoma, annot=True)\n",
        "plt.show()\n",
        "\n",
        "#Métrica Accuracy (promedio diagonales) con normalización 'all'\n",
        "acc_test_random=accuracy_score(class_val,pred_random_test, normalize=True)\n",
        "print('El accuracy mediante la métrica es: '+str(acc_test_random))\n",
        "prom_diagonal_test_random_a=mc_test_randoma.diagonal().sum()\n",
        "print('Suma de la diagonal para la matriz de confusión (all): '+str(prom_diagonal_test_random_a))\n",
        "\n",
        "#Métrica Accuracy (promedio diagonales) con normalización 'true'\n",
        "prom_diagonal_test_randomt=mc_test_randomt.diagonal().sum()\n",
        "prom_diagonal_test_randomt2=prom_diagonal_test_randomt/2\n",
        "print('Suma de la diagonal para la matriz de confusión (true): '+str(prom_diagonal_test_randomt))\n",
        "print('Promedio de la diagonal para la matriz de confusión (true): '+str(prom_diagonal_test_randomt2))\n",
        "\n",
        "\n"
      ],
      "execution_count": 20,
      "outputs": [
        {
          "output_type": "display_data",
          "data": {
            "image/png": "[encoded data removed]",
            "text/plain": [
              "<Figure size 432x288 with 1 Axes>"
            ]
          },
          "metadata": {
            "tags": [],
            "needs_background": "light"
          }
        },
        {
          "output_type": "display_data",
          "data": {
            "image/png": "[encoded data removed]",
            "text/plain": [
              "<Figure size 432x288 with 1 Axes>"
            ]
          },
          "metadata": {
            "tags": [],
            "needs_background": "light"
          }
        },
        {
          "output_type": "display_data",
          "data": {
            "image/png": "[encoded data removed]",
            "text/plain": [
              "<Figure size 432x288 with 2 Axes>"
            ]
          },
          "metadata": {
            "tags": [],
            "needs_background": "light"
          }
        },
        {
          "output_type": "display_data",
          "data": {
            "image/png": "[encoded data removed]",
            "text/plain": [
              "<Figure size 432x288 with 2 Axes>"
            ]
          },
          "metadata": {
            "tags": [],
            "needs_background": "light"
          }
        },
        {
          "output_type": "stream",
          "text": [
            "El accuracy mediante la métrica es: 0.6298701298701299\n",
            "Suma de la diagonal para la matriz de confusión (all): 0.6298701298701299\n",
            "Suma de la diagonal para la matriz de confusión (true): 1.1623550401427298\n",
            "Promedio de la diagonal para la matriz de confusión (true): 0.5811775200713649\n"
          ],
          "name": "stdout"
        },
        {
          "output_type": "display_data",
          "data": {
            "image/png": "[encoded data removed]",
            "text/plain": [
              "<Figure size 432x288 with 2 Axes>"
            ]
          },
          "metadata": {
            "tags": [],
            "needs_background": "light"
          }
        },
        {
          "output_type": "display_data",
          "data": {
            "image/png": "[encoded data removed]",
            "text/plain": [
              "<Figure size 432x288 with 2 Axes>"
            ]
          },
          "metadata": {
            "tags": [],
            "needs_background": "light"
          }
        },
        {
          "output_type": "stream",
          "text": [
            "El accuracy mediante la métrica es: 0.6363636363636364\n",
            "Suma de la diagonal para la matriz de confusión (all): 0.6363636363636364\n",
            "Suma de la diagonal para la matriz de confusión (true): 1.2049955396966994\n",
            "Promedio de la diagonal para la matriz de confusión (true): 0.6024977698483497\n"
          ],
          "name": "stdout"
        }
      ]
    },
    {
      "cell_type": "code",
      "metadata": {
        "colab": {
          "base_uri": "https://localhost:8080/",
          "height": 295
        },
        "id": "UgMno2CM6fsY",
        "outputId": "5cc80178-c2d3-4011-f6e3-8ef68376ea54"
      },
      "source": [
        "#Comparación mejores clasificadores\n",
        "plt.plot(FPR_svm_r,TPR_svm_r, label='SVM lineal')\n",
        "plt.plot(FPR_rf2,TPR_rf2, label='RandomForest')\n",
        "plt.xlabel('Tasa Falsos Positivos')\n",
        "plt.ylabel('Tasa Verdaderos Positivos')\n",
        "plt.title('Comparación curvas ROC, Mejores clasificadores')\n",
        "plt.legend()\n",
        "plt.grid()\n",
        "plt.show()"
      ],
      "execution_count": 21,
      "outputs": [
        {
          "output_type": "display_data",
          "data": {
            "image/png": "[encoded data removed]",
            "text/plain": [
              "<Figure size 432x288 with 1 Axes>"
            ]
          },
          "metadata": {
            "tags": [],
            "needs_background": "light"
          }
        }
      ]
    }
  ]
}