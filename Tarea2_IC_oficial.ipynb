{
  "nbformat": 4,
  "nbformat_minor": 0,
  "metadata": {
    "colab": {
      "name": "Tarea2_IC.ipynb",
      "provenance": [],
      "collapsed_sections": []
    },
    "kernelspec": {
      "display_name": "Python 3",
      "name": "python3"
    },
    "language_info": {
      "name": "python"
    }
  },
  "cells": [
    {
      "cell_type": "markdown",
      "metadata": {
        "id": "wTFxYsyVjJHJ"
      },
      "source": [
        "# **Tarea 2 Inteligencia Computacional**\n",
        "## Support Vector Machine (SVM)\n",
        "### María José Liberona T. "
      ]
    },
    {
      "cell_type": "code",
      "metadata": {
        "colab": {
          "resources": {
            "http://localhost:8080/nbextensions/google.colab/files.js": {
              "data": "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",
              "ok": true,
              "headers": [
                [
                  "content-type",
                  "application/javascript"
                ]
              ],
              "status": 200,
              "status_text": ""
            }
          },
          "base_uri": "https://localhost:8080/",
          "height": 72
        },
        "id": "NpbgYt9WjFmu",
        "outputId": "4b63d226-e264-4248-a71b-c476ab49bcb0"
      },
      "source": [
        "#Tarea 2 Inteligencia Computacional \n",
        "#María José Liberona Tobar\n",
        "\n",
        "#Importación de librerias\n",
        "import pandas as pd\n",
        "import numpy as np\n",
        "import matplotlib.pyplot as plt\n",
        "from sklearn.model_selection import train_test_split\n",
        "from sklearn.preprocessing import StandardScaler\n",
        "from sklearn import svm, datasets\n",
        "from sklearn.model_selection import GridSearchCV\n",
        "from sklearn.metrics import classification_report, confusion_matrix, roc_curve, auc, precision_recall_curve, average_precision_score\n",
        "\n",
        "#Subir documentos  \n",
        "#Se debe subir el documento magic04.data\n",
        "from google.colab import files\n",
        "uploaded = files.upload()"
      ],
      "execution_count": null,
      "outputs": [
        {
          "output_type": "display_data",
          "data": {
            "text/html": [
              "\n",
              "     <input type=\"file\" id=\"files-155e58f0-5a54-41f0-86de-a7fee0a7ac7b\" name=\"files[]\" multiple disabled\n",
              "        style=\"border:none\" />\n",
              "     <output id=\"result-155e58f0-5a54-41f0-86de-a7fee0a7ac7b\">\n",
              "      Upload widget is only available when the cell has been executed in the\n",
              "      current browser session. Please rerun this cell to enable.\n",
              "      </output>\n",
              "      <script src=\"/nbextensions/google.colab/files.js\"></script> "
            ],
            "text/plain": [
              "<IPython.core.display.HTML object>"
            ]
          },
          "metadata": {
            "tags": []
          }
        },
        {
          "output_type": "stream",
          "text": [
            "Saving magic04.data to magic04.data\n"
          ],
          "name": "stdout"
        }
      ]
    },
    {
      "cell_type": "code",
      "metadata": {
        "colab": {
          "base_uri": "https://localhost:8080/",
          "height": 419
        },
        "id": "D4X5HV6ykjqy",
        "outputId": "1e954f8a-f60e-450a-b101-b9108cced6d7"
      },
      "source": [
        "# 1. Implementar un código que lea el dataset, usando pandas.\n",
        "columnas=['fLength', 'fWidth', 'fSize', 'fConc', 'fConcl', 'fAsym', 'fM3Long', 'fM3Trans','fAlpha', 'fDist', 'class'] #Nombre de las columnas\n",
        "m_datos=pd.read_csv('magic04.data', names=columnas) #Lee el documento y asignar los nombres a las columnas\n",
        "m_datos\n"
      ],
      "execution_count": null,
      "outputs": [
        {
          "output_type": "execute_result",
          "data": {
            "text/html": [
              "<div>\n",
              "<style scoped>\n",
              "    .dataframe tbody tr th:only-of-type {\n",
              "        vertical-align: middle;\n",
              "    }\n",
              "\n",
              "    .dataframe tbody tr th {\n",
              "        vertical-align: top;\n",
              "    }\n",
              "\n",
              "    .dataframe thead th {\n",
              "        text-align: right;\n",
              "    }\n",
              "</style>\n",
              "<table border=\"1\" class=\"dataframe\">\n",
              "  <thead>\n",
              "    <tr style=\"text-align: right;\">\n",
              "      <th></th>\n",
              "      <th>fLength</th>\n",
              "      <th>fWidth</th>\n",
              "      <th>fSize</th>\n",
              "      <th>fConc</th>\n",
              "      <th>fConcl</th>\n",
              "      <th>fAsym</th>\n",
              "      <th>fM3Long</th>\n",
              "      <th>fM3Trans</th>\n",
              "      <th>fAlpha</th>\n",
              "      <th>fDist</th>\n",
              "      <th>class</th>\n",
              "    </tr>\n",
              "  </thead>\n",
              "  <tbody>\n",
              "    <tr>\n",
              "      <th>0</th>\n",
              "      <td>28.7967</td>\n",
              "      <td>16.0021</td>\n",
              "      <td>2.6449</td>\n",
              "      <td>0.3918</td>\n",
              "      <td>0.1982</td>\n",
              "      <td>27.7004</td>\n",
              "      <td>22.0110</td>\n",
              "      <td>-8.2027</td>\n",
              "      <td>40.0920</td>\n",
              "      <td>81.8828</td>\n",
              "      <td>g</td>\n",
              "    </tr>\n",
              "    <tr>\n",
              "      <th>1</th>\n",
              "      <td>31.6036</td>\n",
              "      <td>11.7235</td>\n",
              "      <td>2.5185</td>\n",
              "      <td>0.5303</td>\n",
              "      <td>0.3773</td>\n",
              "      <td>26.2722</td>\n",
              "      <td>23.8238</td>\n",
              "      <td>-9.9574</td>\n",
              "      <td>6.3609</td>\n",
              "      <td>205.2610</td>\n",
              "      <td>g</td>\n",
              "    </tr>\n",
              "    <tr>\n",
              "      <th>2</th>\n",
              "      <td>162.0520</td>\n",
              "      <td>136.0310</td>\n",
              "      <td>4.0612</td>\n",
              "      <td>0.0374</td>\n",
              "      <td>0.0187</td>\n",
              "      <td>116.7410</td>\n",
              "      <td>-64.8580</td>\n",
              "      <td>-45.2160</td>\n",
              "      <td>76.9600</td>\n",
              "      <td>256.7880</td>\n",
              "      <td>g</td>\n",
              "    </tr>\n",
              "    <tr>\n",
              "      <th>3</th>\n",
              "      <td>23.8172</td>\n",
              "      <td>9.5728</td>\n",
              "      <td>2.3385</td>\n",
              "      <td>0.6147</td>\n",
              "      <td>0.3922</td>\n",
              "      <td>27.2107</td>\n",
              "      <td>-6.4633</td>\n",
              "      <td>-7.1513</td>\n",
              "      <td>10.4490</td>\n",
              "      <td>116.7370</td>\n",
              "      <td>g</td>\n",
              "    </tr>\n",
              "    <tr>\n",
              "      <th>4</th>\n",
              "      <td>75.1362</td>\n",
              "      <td>30.9205</td>\n",
              "      <td>3.1611</td>\n",
              "      <td>0.3168</td>\n",
              "      <td>0.1832</td>\n",
              "      <td>-5.5277</td>\n",
              "      <td>28.5525</td>\n",
              "      <td>21.8393</td>\n",
              "      <td>4.6480</td>\n",
              "      <td>356.4620</td>\n",
              "      <td>g</td>\n",
              "    </tr>\n",
              "    <tr>\n",
              "      <th>...</th>\n",
              "      <td>...</td>\n",
              "      <td>...</td>\n",
              "      <td>...</td>\n",
              "      <td>...</td>\n",
              "      <td>...</td>\n",
              "      <td>...</td>\n",
              "      <td>...</td>\n",
              "      <td>...</td>\n",
              "      <td>...</td>\n",
              "      <td>...</td>\n",
              "      <td>...</td>\n",
              "    </tr>\n",
              "    <tr>\n",
              "      <th>19015</th>\n",
              "      <td>21.3846</td>\n",
              "      <td>10.9170</td>\n",
              "      <td>2.6161</td>\n",
              "      <td>0.5857</td>\n",
              "      <td>0.3934</td>\n",
              "      <td>15.2618</td>\n",
              "      <td>11.5245</td>\n",
              "      <td>2.8766</td>\n",
              "      <td>2.4229</td>\n",
              "      <td>106.8258</td>\n",
              "      <td>h</td>\n",
              "    </tr>\n",
              "    <tr>\n",
              "      <th>19016</th>\n",
              "      <td>28.9452</td>\n",
              "      <td>6.7020</td>\n",
              "      <td>2.2672</td>\n",
              "      <td>0.5351</td>\n",
              "      <td>0.2784</td>\n",
              "      <td>37.0816</td>\n",
              "      <td>13.1853</td>\n",
              "      <td>-2.9632</td>\n",
              "      <td>86.7975</td>\n",
              "      <td>247.4560</td>\n",
              "      <td>h</td>\n",
              "    </tr>\n",
              "    <tr>\n",
              "      <th>19017</th>\n",
              "      <td>75.4455</td>\n",
              "      <td>47.5305</td>\n",
              "      <td>3.4483</td>\n",
              "      <td>0.1417</td>\n",
              "      <td>0.0549</td>\n",
              "      <td>-9.3561</td>\n",
              "      <td>41.0562</td>\n",
              "      <td>-9.4662</td>\n",
              "      <td>30.2987</td>\n",
              "      <td>256.5166</td>\n",
              "      <td>h</td>\n",
              "    </tr>\n",
              "    <tr>\n",
              "      <th>19018</th>\n",
              "      <td>120.5135</td>\n",
              "      <td>76.9018</td>\n",
              "      <td>3.9939</td>\n",
              "      <td>0.0944</td>\n",
              "      <td>0.0683</td>\n",
              "      <td>5.8043</td>\n",
              "      <td>-93.5224</td>\n",
              "      <td>-63.8389</td>\n",
              "      <td>84.6874</td>\n",
              "      <td>408.3166</td>\n",
              "      <td>h</td>\n",
              "    </tr>\n",
              "    <tr>\n",
              "      <th>19019</th>\n",
              "      <td>187.1814</td>\n",
              "      <td>53.0014</td>\n",
              "      <td>3.2093</td>\n",
              "      <td>0.2876</td>\n",
              "      <td>0.1539</td>\n",
              "      <td>-167.3125</td>\n",
              "      <td>-168.4558</td>\n",
              "      <td>31.4755</td>\n",
              "      <td>52.7310</td>\n",
              "      <td>272.3174</td>\n",
              "      <td>h</td>\n",
              "    </tr>\n",
              "  </tbody>\n",
              "</table>\n",
              "<p>19020 rows × 11 columns</p>\n",
              "</div>"
            ],
            "text/plain": [
              "        fLength    fWidth   fSize   fConc  ...  fM3Trans   fAlpha     fDist  class\n",
              "0       28.7967   16.0021  2.6449  0.3918  ...   -8.2027  40.0920   81.8828      g\n",
              "1       31.6036   11.7235  2.5185  0.5303  ...   -9.9574   6.3609  205.2610      g\n",
              "2      162.0520  136.0310  4.0612  0.0374  ...  -45.2160  76.9600  256.7880      g\n",
              "3       23.8172    9.5728  2.3385  0.6147  ...   -7.1513  10.4490  116.7370      g\n",
              "4       75.1362   30.9205  3.1611  0.3168  ...   21.8393   4.6480  356.4620      g\n",
              "...         ...       ...     ...     ...  ...       ...      ...       ...    ...\n",
              "19015   21.3846   10.9170  2.6161  0.5857  ...    2.8766   2.4229  106.8258      h\n",
              "19016   28.9452    6.7020  2.2672  0.5351  ...   -2.9632  86.7975  247.4560      h\n",
              "19017   75.4455   47.5305  3.4483  0.1417  ...   -9.4662  30.2987  256.5166      h\n",
              "19018  120.5135   76.9018  3.9939  0.0944  ...  -63.8389  84.6874  408.3166      h\n",
              "19019  187.1814   53.0014  3.2093  0.2876  ...   31.4755  52.7310  272.3174      h\n",
              "\n",
              "[19020 rows x 11 columns]"
            ]
          },
          "metadata": {
            "tags": []
          },
          "execution_count": 3
        }
      ]
    },
    {
      "cell_type": "code",
      "metadata": {
        "colab": {
          "base_uri": "https://localhost:8080/",
          "height": 453
        },
        "id": "PNEfTkFbnRHO",
        "outputId": "263f10b7-c337-4f7c-e327-5b46baf74eb1"
      },
      "source": [
        "# 2. Re-muestrear el dataset usando pandas, de modo que contenga 3.000 ejemplos de la clase positiva,\n",
        "#y 3.000 ejemplos de la clase negativa.\n",
        "\n",
        "#Primero se dividirán los grupos por clase utilizando la función 'pd.dataframe.groupby('class').get_group('g/h')\n",
        "#Obs: la función '.reset_index(drop=True)' redefine los índices de las filas\n",
        "#Clase no-hadrón ('g')\n",
        "m_g=m_datos.groupby('class').get_group('g').reset_index(drop=True)\n",
        "#Clase hadrón ('h')\n",
        "m_h=m_datos.groupby('class').get_group('h').reset_index(drop=True)\n",
        "\n",
        "#Luego, se implementa la función 'pd.dataframe.sample()' que permite elegir al azar un número determinado de filas\n",
        "#Clase no-hadrón\n",
        "m_data_g=m_g.sample(n=3000, replace=False).reset_index(drop=True)\n",
        "(filas_g,colum_g)=m_data_g.shape\n",
        "#Clase hadrón\n",
        "m_data_h=m_h.sample(n=3000, replace=False).reset_index(drop=True)\n",
        "(filas_h,colum_h)=m_data_h.shape\n",
        "\n",
        "#print(m_data_g) #Muestra 3000 datos de clase no-hadrón\n",
        "#print(m_data_h) #Muestra 3000 datos de clase hadrón\n",
        "\n",
        "union_m=pd.concat([m_data_g, m_data_h]) #Une los dataframe que contienen 3000 muestras de 'h' y 3000 de 'g'\n",
        "datos=union_m.sample(frac=1.0).reset_index(drop=True)\n",
        "(filas_datos,colum_datos)=datos.shape\n",
        "\n",
        "#Proporción de las clases en la data original \n",
        "print('Proporción data original de no hadrón (g): '+str(filas_g/filas_datos))\n",
        "print('Proporción data original de hadrón (h): '+str(filas_h/filas_datos))\n",
        "\n",
        "#Muestra los datos base\n",
        "#print(datos)\n",
        "datos\n"
      ],
      "execution_count": null,
      "outputs": [
        {
          "output_type": "stream",
          "text": [
            "Proporción data original de no hadrón (g): 0.5\n",
            "Proporción data original de hadrón (h): 0.5\n"
          ],
          "name": "stdout"
        },
        {
          "output_type": "execute_result",
          "data": {
            "text/html": [
              "<div>\n",
              "<style scoped>\n",
              "    .dataframe tbody tr th:only-of-type {\n",
              "        vertical-align: middle;\n",
              "    }\n",
              "\n",
              "    .dataframe tbody tr th {\n",
              "        vertical-align: top;\n",
              "    }\n",
              "\n",
              "    .dataframe thead th {\n",
              "        text-align: right;\n",
              "    }\n",
              "</style>\n",
              "<table border=\"1\" class=\"dataframe\">\n",
              "  <thead>\n",
              "    <tr style=\"text-align: right;\">\n",
              "      <th></th>\n",
              "      <th>fLength</th>\n",
              "      <th>fWidth</th>\n",
              "      <th>fSize</th>\n",
              "      <th>fConc</th>\n",
              "      <th>fConcl</th>\n",
              "      <th>fAsym</th>\n",
              "      <th>fM3Long</th>\n",
              "      <th>fM3Trans</th>\n",
              "      <th>fAlpha</th>\n",
              "      <th>fDist</th>\n",
              "      <th>class</th>\n",
              "    </tr>\n",
              "  </thead>\n",
              "  <tbody>\n",
              "    <tr>\n",
              "      <th>0</th>\n",
              "      <td>14.1721</td>\n",
              "      <td>7.7370</td>\n",
              "      <td>2.4843</td>\n",
              "      <td>0.4963</td>\n",
              "      <td>0.3027</td>\n",
              "      <td>30.2651</td>\n",
              "      <td>24.1343</td>\n",
              "      <td>-3.3950</td>\n",
              "      <td>33.1110</td>\n",
              "      <td>124.4584</td>\n",
              "      <td>h</td>\n",
              "    </tr>\n",
              "    <tr>\n",
              "      <th>1</th>\n",
              "      <td>39.9730</td>\n",
              "      <td>8.8352</td>\n",
              "      <td>2.5996</td>\n",
              "      <td>0.6457</td>\n",
              "      <td>0.3205</td>\n",
              "      <td>35.1519</td>\n",
              "      <td>35.3912</td>\n",
              "      <td>3.5384</td>\n",
              "      <td>36.3987</td>\n",
              "      <td>178.1124</td>\n",
              "      <td>h</td>\n",
              "    </tr>\n",
              "    <tr>\n",
              "      <th>2</th>\n",
              "      <td>102.3369</td>\n",
              "      <td>25.8713</td>\n",
              "      <td>3.2714</td>\n",
              "      <td>0.1219</td>\n",
              "      <td>0.0878</td>\n",
              "      <td>-22.0600</td>\n",
              "      <td>-38.8742</td>\n",
              "      <td>18.3080</td>\n",
              "      <td>79.7161</td>\n",
              "      <td>81.1097</td>\n",
              "      <td>h</td>\n",
              "    </tr>\n",
              "    <tr>\n",
              "      <th>3</th>\n",
              "      <td>26.2768</td>\n",
              "      <td>14.0731</td>\n",
              "      <td>2.4362</td>\n",
              "      <td>0.4212</td>\n",
              "      <td>0.2253</td>\n",
              "      <td>-12.6384</td>\n",
              "      <td>7.3769</td>\n",
              "      <td>-13.9195</td>\n",
              "      <td>75.6791</td>\n",
              "      <td>105.5910</td>\n",
              "      <td>g</td>\n",
              "    </tr>\n",
              "    <tr>\n",
              "      <th>4</th>\n",
              "      <td>30.8539</td>\n",
              "      <td>22.9645</td>\n",
              "      <td>2.6618</td>\n",
              "      <td>0.2680</td>\n",
              "      <td>0.1340</td>\n",
              "      <td>6.6522</td>\n",
              "      <td>26.4484</td>\n",
              "      <td>-4.6784</td>\n",
              "      <td>41.3740</td>\n",
              "      <td>186.4030</td>\n",
              "      <td>g</td>\n",
              "    </tr>\n",
              "    <tr>\n",
              "      <th>...</th>\n",
              "      <td>...</td>\n",
              "      <td>...</td>\n",
              "      <td>...</td>\n",
              "      <td>...</td>\n",
              "      <td>...</td>\n",
              "      <td>...</td>\n",
              "      <td>...</td>\n",
              "      <td>...</td>\n",
              "      <td>...</td>\n",
              "      <td>...</td>\n",
              "      <td>...</td>\n",
              "    </tr>\n",
              "    <tr>\n",
              "      <th>5995</th>\n",
              "      <td>18.5389</td>\n",
              "      <td>10.1402</td>\n",
              "      <td>2.2923</td>\n",
              "      <td>0.6276</td>\n",
              "      <td>0.3138</td>\n",
              "      <td>3.1107</td>\n",
              "      <td>-9.8429</td>\n",
              "      <td>-6.0326</td>\n",
              "      <td>42.4560</td>\n",
              "      <td>148.1560</td>\n",
              "      <td>h</td>\n",
              "    </tr>\n",
              "    <tr>\n",
              "      <th>5996</th>\n",
              "      <td>72.5175</td>\n",
              "      <td>60.6466</td>\n",
              "      <td>3.5614</td>\n",
              "      <td>0.1599</td>\n",
              "      <td>0.0849</td>\n",
              "      <td>40.7764</td>\n",
              "      <td>56.9624</td>\n",
              "      <td>-23.7941</td>\n",
              "      <td>81.9920</td>\n",
              "      <td>328.7533</td>\n",
              "      <td>h</td>\n",
              "    </tr>\n",
              "    <tr>\n",
              "      <th>5997</th>\n",
              "      <td>28.3933</td>\n",
              "      <td>18.0348</td>\n",
              "      <td>2.5226</td>\n",
              "      <td>0.4728</td>\n",
              "      <td>0.2348</td>\n",
              "      <td>7.7879</td>\n",
              "      <td>20.8174</td>\n",
              "      <td>-11.3260</td>\n",
              "      <td>55.3045</td>\n",
              "      <td>193.6363</td>\n",
              "      <td>h</td>\n",
              "    </tr>\n",
              "    <tr>\n",
              "      <th>5998</th>\n",
              "      <td>23.0874</td>\n",
              "      <td>14.8181</td>\n",
              "      <td>2.5085</td>\n",
              "      <td>0.5643</td>\n",
              "      <td>0.2961</td>\n",
              "      <td>-13.4753</td>\n",
              "      <td>-15.5049</td>\n",
              "      <td>8.5711</td>\n",
              "      <td>2.2829</td>\n",
              "      <td>195.0480</td>\n",
              "      <td>g</td>\n",
              "    </tr>\n",
              "    <tr>\n",
              "      <th>5999</th>\n",
              "      <td>25.4615</td>\n",
              "      <td>3.8234</td>\n",
              "      <td>2.4885</td>\n",
              "      <td>0.6954</td>\n",
              "      <td>0.3595</td>\n",
              "      <td>19.4852</td>\n",
              "      <td>1.3408</td>\n",
              "      <td>5.5778</td>\n",
              "      <td>2.1818</td>\n",
              "      <td>170.5963</td>\n",
              "      <td>h</td>\n",
              "    </tr>\n",
              "  </tbody>\n",
              "</table>\n",
              "<p>6000 rows × 11 columns</p>\n",
              "</div>"
            ],
            "text/plain": [
              "       fLength   fWidth   fSize   fConc  ...  fM3Trans   fAlpha     fDist  class\n",
              "0      14.1721   7.7370  2.4843  0.4963  ...   -3.3950  33.1110  124.4584      h\n",
              "1      39.9730   8.8352  2.5996  0.6457  ...    3.5384  36.3987  178.1124      h\n",
              "2     102.3369  25.8713  3.2714  0.1219  ...   18.3080  79.7161   81.1097      h\n",
              "3      26.2768  14.0731  2.4362  0.4212  ...  -13.9195  75.6791  105.5910      g\n",
              "4      30.8539  22.9645  2.6618  0.2680  ...   -4.6784  41.3740  186.4030      g\n",
              "...        ...      ...     ...     ...  ...       ...      ...       ...    ...\n",
              "5995   18.5389  10.1402  2.2923  0.6276  ...   -6.0326  42.4560  148.1560      h\n",
              "5996   72.5175  60.6466  3.5614  0.1599  ...  -23.7941  81.9920  328.7533      h\n",
              "5997   28.3933  18.0348  2.5226  0.4728  ...  -11.3260  55.3045  193.6363      h\n",
              "5998   23.0874  14.8181  2.5085  0.5643  ...    8.5711   2.2829  195.0480      g\n",
              "5999   25.4615   3.8234  2.4885  0.6954  ...    5.5778   2.1818  170.5963      h\n",
              "\n",
              "[6000 rows x 11 columns]"
            ]
          },
          "metadata": {
            "tags": []
          },
          "execution_count": 4
        }
      ]
    },
    {
      "cell_type": "code",
      "metadata": {
        "colab": {
          "base_uri": "https://localhost:8080/",
          "height": 521
        },
        "id": "vogDr0i7q0cJ",
        "outputId": "628b9251-d127-4ecb-ecc5-f6ba52a20ff0"
      },
      "source": [
        "# 3.  Dividir la base de datos en 3 conjuntos representativos: entrenamiento (60%), validación (20%) y\n",
        "# prueba (20%). Compruebe la representatividad de éstos, verificando si la proporción de cada clase\n",
        "# se mantiene cercana a la proporción del conjunto completo.\n",
        "\n",
        "#Separación en entrenamiento, validación y prueba\n",
        "data_train, data_vp=train_test_split(datos,train_size=0.6,test_size=0.4,shuffle=False)\n",
        "data_val, data_test=train_test_split(data_vp,train_size=0.5,test_size=0.5,shuffle=False)\n",
        "\n",
        "#Tamaño conjuntos de entrenamiento, validación y prueba\n",
        "(filas_train,colum_train)=data_train.shape\n",
        "(filas_val,colum_val)=data_val.shape \n",
        "(filas_test,colum_test)=data_test.shape\n",
        "\n",
        "#Proporción de las clases en los diferentes conjuntos (train, test, val)\n",
        "#Entrenamiento (train)\n",
        "train_g=data_train.groupby('class').get_group('g')\n",
        "(filas_train_g,colum_train_g)=train_g.shape\n",
        "train_h=data_train.groupby('class').get_group('h')\n",
        "(filas_train_h,colum_train_h)=train_h.shape\n",
        "\n",
        "print('Proporción data train de no hadrón (g): '+str(filas_train_g/filas_train))\n",
        "print('Proporción data train de hadrón (h): '+str(filas_train_h/filas_train))\n",
        "\n",
        "#Test\n",
        "test_g=data_test.groupby('class').get_group('g')\n",
        "(filas_test_g,colum_test_g)=test_g.shape\n",
        "test_h=data_test.groupby('class').get_group('h')\n",
        "(filas_test_h,colum_test_h)=test_h.shape\n",
        "\n",
        "print('Proporción data test de no hadrón (g): '+str(filas_test_g/filas_test))\n",
        "print('Proporción data test de hadrón (h): '+str(filas_test_h/filas_test))\n",
        "\n",
        "#Validación\n",
        "val_g=data_val.groupby('class').get_group('g')\n",
        "(filas_val_g,colum_val_g)=val_g.shape\n",
        "val_h=data_val.groupby('class').get_group('h')\n",
        "(filas_val_h,colum_val_h)=val_h.shape\n",
        "\n",
        "print('Proporción data validación de no hadrón (g): '+str(filas_val_g/filas_val))\n",
        "print('Proporción data validación de hadrón (h): '+str(filas_val_h/filas_val))\n",
        "\n",
        "#print(data_train)\n",
        "#print(data_val)\n",
        "#print(data_test)\n",
        "data_test"
      ],
      "execution_count": null,
      "outputs": [
        {
          "output_type": "stream",
          "text": [
            "Proporción data train de no hadrón (g): 0.4975\n",
            "Proporción data train de hadrón (h): 0.5025\n",
            "Proporción data test de no hadrón (g): 0.49\n",
            "Proporción data test de hadrón (h): 0.51\n",
            "Proporción data validación de no hadrón (g): 0.5175\n",
            "Proporción data validación de hadrón (h): 0.4825\n"
          ],
          "name": "stdout"
        },
        {
          "output_type": "execute_result",
          "data": {
            "text/html": [
              "<div>\n",
              "<style scoped>\n",
              "    .dataframe tbody tr th:only-of-type {\n",
              "        vertical-align: middle;\n",
              "    }\n",
              "\n",
              "    .dataframe tbody tr th {\n",
              "        vertical-align: top;\n",
              "    }\n",
              "\n",
              "    .dataframe thead th {\n",
              "        text-align: right;\n",
              "    }\n",
              "</style>\n",
              "<table border=\"1\" class=\"dataframe\">\n",
              "  <thead>\n",
              "    <tr style=\"text-align: right;\">\n",
              "      <th></th>\n",
              "      <th>fLength</th>\n",
              "      <th>fWidth</th>\n",
              "      <th>fSize</th>\n",
              "      <th>fConc</th>\n",
              "      <th>fConcl</th>\n",
              "      <th>fAsym</th>\n",
              "      <th>fM3Long</th>\n",
              "      <th>fM3Trans</th>\n",
              "      <th>fAlpha</th>\n",
              "      <th>fDist</th>\n",
              "      <th>class</th>\n",
              "    </tr>\n",
              "  </thead>\n",
              "  <tbody>\n",
              "    <tr>\n",
              "      <th>4800</th>\n",
              "      <td>24.6829</td>\n",
              "      <td>8.8025</td>\n",
              "      <td>2.4417</td>\n",
              "      <td>0.4431</td>\n",
              "      <td>0.2583</td>\n",
              "      <td>34.2271</td>\n",
              "      <td>-17.9715</td>\n",
              "      <td>-11.4317</td>\n",
              "      <td>68.5378</td>\n",
              "      <td>78.1400</td>\n",
              "      <td>h</td>\n",
              "    </tr>\n",
              "    <tr>\n",
              "      <th>4801</th>\n",
              "      <td>83.3455</td>\n",
              "      <td>18.5871</td>\n",
              "      <td>2.8315</td>\n",
              "      <td>0.3920</td>\n",
              "      <td>0.2837</td>\n",
              "      <td>-55.2217</td>\n",
              "      <td>-64.8864</td>\n",
              "      <td>-17.6264</td>\n",
              "      <td>12.9110</td>\n",
              "      <td>284.6520</td>\n",
              "      <td>g</td>\n",
              "    </tr>\n",
              "    <tr>\n",
              "      <th>4802</th>\n",
              "      <td>33.6825</td>\n",
              "      <td>16.3260</td>\n",
              "      <td>2.7247</td>\n",
              "      <td>0.3487</td>\n",
              "      <td>0.1781</td>\n",
              "      <td>34.6867</td>\n",
              "      <td>-22.9435</td>\n",
              "      <td>-14.9478</td>\n",
              "      <td>11.7631</td>\n",
              "      <td>164.7560</td>\n",
              "      <td>g</td>\n",
              "    </tr>\n",
              "    <tr>\n",
              "      <th>4803</th>\n",
              "      <td>21.7632</td>\n",
              "      <td>12.4786</td>\n",
              "      <td>2.3627</td>\n",
              "      <td>0.5249</td>\n",
              "      <td>0.2712</td>\n",
              "      <td>28.7016</td>\n",
              "      <td>-8.0145</td>\n",
              "      <td>4.3910</td>\n",
              "      <td>26.1310</td>\n",
              "      <td>152.4440</td>\n",
              "      <td>g</td>\n",
              "    </tr>\n",
              "    <tr>\n",
              "      <th>4804</th>\n",
              "      <td>19.1141</td>\n",
              "      <td>12.2076</td>\n",
              "      <td>2.4676</td>\n",
              "      <td>0.5554</td>\n",
              "      <td>0.3186</td>\n",
              "      <td>-3.8694</td>\n",
              "      <td>10.6297</td>\n",
              "      <td>10.5675</td>\n",
              "      <td>48.2306</td>\n",
              "      <td>177.9120</td>\n",
              "      <td>h</td>\n",
              "    </tr>\n",
              "    <tr>\n",
              "      <th>...</th>\n",
              "      <td>...</td>\n",
              "      <td>...</td>\n",
              "      <td>...</td>\n",
              "      <td>...</td>\n",
              "      <td>...</td>\n",
              "      <td>...</td>\n",
              "      <td>...</td>\n",
              "      <td>...</td>\n",
              "      <td>...</td>\n",
              "      <td>...</td>\n",
              "      <td>...</td>\n",
              "    </tr>\n",
              "    <tr>\n",
              "      <th>5995</th>\n",
              "      <td>18.5389</td>\n",
              "      <td>10.1402</td>\n",
              "      <td>2.2923</td>\n",
              "      <td>0.6276</td>\n",
              "      <td>0.3138</td>\n",
              "      <td>3.1107</td>\n",
              "      <td>-9.8429</td>\n",
              "      <td>-6.0326</td>\n",
              "      <td>42.4560</td>\n",
              "      <td>148.1560</td>\n",
              "      <td>h</td>\n",
              "    </tr>\n",
              "    <tr>\n",
              "      <th>5996</th>\n",
              "      <td>72.5175</td>\n",
              "      <td>60.6466</td>\n",
              "      <td>3.5614</td>\n",
              "      <td>0.1599</td>\n",
              "      <td>0.0849</td>\n",
              "      <td>40.7764</td>\n",
              "      <td>56.9624</td>\n",
              "      <td>-23.7941</td>\n",
              "      <td>81.9920</td>\n",
              "      <td>328.7533</td>\n",
              "      <td>h</td>\n",
              "    </tr>\n",
              "    <tr>\n",
              "      <th>5997</th>\n",
              "      <td>28.3933</td>\n",
              "      <td>18.0348</td>\n",
              "      <td>2.5226</td>\n",
              "      <td>0.4728</td>\n",
              "      <td>0.2348</td>\n",
              "      <td>7.7879</td>\n",
              "      <td>20.8174</td>\n",
              "      <td>-11.3260</td>\n",
              "      <td>55.3045</td>\n",
              "      <td>193.6363</td>\n",
              "      <td>h</td>\n",
              "    </tr>\n",
              "    <tr>\n",
              "      <th>5998</th>\n",
              "      <td>23.0874</td>\n",
              "      <td>14.8181</td>\n",
              "      <td>2.5085</td>\n",
              "      <td>0.5643</td>\n",
              "      <td>0.2961</td>\n",
              "      <td>-13.4753</td>\n",
              "      <td>-15.5049</td>\n",
              "      <td>8.5711</td>\n",
              "      <td>2.2829</td>\n",
              "      <td>195.0480</td>\n",
              "      <td>g</td>\n",
              "    </tr>\n",
              "    <tr>\n",
              "      <th>5999</th>\n",
              "      <td>25.4615</td>\n",
              "      <td>3.8234</td>\n",
              "      <td>2.4885</td>\n",
              "      <td>0.6954</td>\n",
              "      <td>0.3595</td>\n",
              "      <td>19.4852</td>\n",
              "      <td>1.3408</td>\n",
              "      <td>5.5778</td>\n",
              "      <td>2.1818</td>\n",
              "      <td>170.5963</td>\n",
              "      <td>h</td>\n",
              "    </tr>\n",
              "  </tbody>\n",
              "</table>\n",
              "<p>1200 rows × 11 columns</p>\n",
              "</div>"
            ],
            "text/plain": [
              "      fLength   fWidth   fSize   fConc  ...  fM3Trans   fAlpha     fDist  class\n",
              "4800  24.6829   8.8025  2.4417  0.4431  ...  -11.4317  68.5378   78.1400      h\n",
              "4801  83.3455  18.5871  2.8315  0.3920  ...  -17.6264  12.9110  284.6520      g\n",
              "4802  33.6825  16.3260  2.7247  0.3487  ...  -14.9478  11.7631  164.7560      g\n",
              "4803  21.7632  12.4786  2.3627  0.5249  ...    4.3910  26.1310  152.4440      g\n",
              "4804  19.1141  12.2076  2.4676  0.5554  ...   10.5675  48.2306  177.9120      h\n",
              "...       ...      ...     ...     ...  ...       ...      ...       ...    ...\n",
              "5995  18.5389  10.1402  2.2923  0.6276  ...   -6.0326  42.4560  148.1560      h\n",
              "5996  72.5175  60.6466  3.5614  0.1599  ...  -23.7941  81.9920  328.7533      h\n",
              "5997  28.3933  18.0348  2.5226  0.4728  ...  -11.3260  55.3045  193.6363      h\n",
              "5998  23.0874  14.8181  2.5085  0.5643  ...    8.5711   2.2829  195.0480      g\n",
              "5999  25.4615   3.8234  2.4885  0.6954  ...    5.5778   2.1818  170.5963      h\n",
              "\n",
              "[1200 rows x 11 columns]"
            ]
          },
          "metadata": {
            "tags": []
          },
          "execution_count": 5
        }
      ]
    },
    {
      "cell_type": "code",
      "metadata": {
        "colab": {
          "base_uri": "https://localhost:8080/"
        },
        "id": "puccmynFdnIV",
        "outputId": "caef9166-c6a1-4c28-ef2f-96a2ab197a70"
      },
      "source": [
        "# 4. Entrene un StandardScaler usando las características del conjunto de entrenamiento para poder\n",
        "#normalizar las características. Luego, aplíquelo a las características del conjunto de entrenamiento,\n",
        "#validación y prueba.\n",
        "\n",
        "#Entrenamiento de StandScaler a partir de los datos de entrenamiento\n",
        "scaler = StandardScaler()\n",
        "\n",
        "print(scaler.fit(data_train.iloc[:,:10])) #Calcula la media y desviación estándar \n",
        "\n",
        "#Normaliza las muestras \n",
        "train=scaler.transform(data_train.iloc[:,:10])\n",
        "#print(train)\n",
        "test=scaler.transform(data_test.iloc[:,:10])\n",
        "#print(test)\n",
        "val=scaler.transform(data_val.iloc[:,:10])\n",
        "#print(val)\n"
      ],
      "execution_count": null,
      "outputs": [
        {
          "output_type": "stream",
          "text": [
            "StandardScaler(copy=True, with_mean=True, with_std=True)\n"
          ],
          "name": "stdout"
        }
      ]
    },
    {
      "cell_type": "code",
      "metadata": {
        "colab": {
          "base_uri": "https://localhost:8080/"
        },
        "id": "V09tTdkhgqsS",
        "outputId": "514b42fa-b371-4613-b2a1-88aa20299c80"
      },
      "source": [
        "#5. Entrenar un clasificador SVM lineal que permita discriminar\n",
        "# hadrones de no-hadrones\n",
        "\n",
        "#Opción 1: Se crea el estimador directamente desde la función GridSearchCV()\n",
        "#Define el mejor valor de los parámetros\n",
        "model_lineal=GridSearchCV(estimator=svm.SVC(), param_grid={'C':[0.1,5,10,50,100],'kernel':['linear']}, cv=5)\n",
        "#Entrena el modelo lineal \n",
        "model_lineal.fit(train, data_train['class'])\n",
        "\n",
        "#Opción 2: Se crea el estimador aparte utilizando los parámetros obtenidos de GridSearchCV()\n",
        "#model_2=svm.SVC(kernel='linear', C=model.best_estimator_.C, probability=False)\n",
        "#model_2.fit(train, data_train['class'])\n",
        "\n",
        "#Muestra el resultado de los mejores parámetros\n",
        "print(model_lineal.best_estimator_)\n"
      ],
      "execution_count": null,
      "outputs": [
        {
          "output_type": "stream",
          "text": [
            "SVC(C=5, break_ties=False, cache_size=200, class_weight=None, coef0=0.0,\n",
            "    decision_function_shape='ovr', degree=3, gamma='scale', kernel='linear',\n",
            "    max_iter=-1, probability=False, random_state=None, shrinking=True,\n",
            "    tol=0.001, verbose=False)\n"
          ],
          "name": "stdout"
        }
      ]
    },
    {
      "cell_type": "code",
      "metadata": {
        "colab": {
          "base_uri": "https://localhost:8080/"
        },
        "id": "K5cSibRkW_1B",
        "outputId": "919dfda3-067e-4fe9-c671-5bcf29bcb151"
      },
      "source": [
        "# 6. Evaluar sobre el conjunto de validación y generar la matriz de confusión, tanto en su versión\n",
        "# normalizada como no normalizada. Se recomienda usar metrics.confusión_matrix( )\n",
        "\n",
        "#Predicción usando el modelo de la opción 1\n",
        "prediccion_val=model_lineal.predict(val) \n",
        "#print(prediccion_val)\n",
        "\n",
        "#Predicción usando el modelo de la opción 2\n",
        "#prediccion_2_val=model_2.predict(val)\n",
        "#print(prediccion_2_val)\n",
        "\n",
        "#print(classification_report(data_val['class'], prediccion_val))\n",
        "\n",
        "#Matriz de confusión sin normalizar\n",
        "matriz_c=confusion_matrix(data_val['class'],prediccion_val, labels=['g','h'])\n",
        "#print(matriz_c)\n",
        "#Matriz de confusión normalizada con respecto a cada clase\n",
        "matriz_cn=confusion_matrix(data_val['class'],prediccion_val, normalize='true', labels=['g','h'])\n",
        "#print(matriz_cn)\n",
        "#Matriz de confusión normalizada con respecto al total de muestras\n",
        "matriz_cn2=confusion_matrix(data_val['class'],prediccion_val, normalize='all', labels=['g','h'])\n",
        "print(matriz_cn2)\n"
      ],
      "execution_count": null,
      "outputs": [
        {
          "output_type": "stream",
          "text": [
            "[[0.4275 0.09  ]\n",
            " [0.1325 0.35  ]]\n"
          ],
          "name": "stdout"
        }
      ]
    },
    {
      "cell_type": "code",
      "metadata": {
        "colab": {
          "base_uri": "https://localhost:8080/",
          "height": 312
        },
        "id": "2Ngmf1wgjkrS",
        "outputId": "4776cd1b-a923-4ffe-cfaa-8178357098d2"
      },
      "source": [
        "# 7. Generar una curva ROC que muestre el desempeño del clasificador y calcular el área bajo la curva.\n",
        "# Se debe usar las funciones decision_function( ), metrics.roc_curve( ) y metrics.auc( )\n",
        "\n",
        "#Obtiene la evaluación del modelo para cada muestra del conjunto de validación \n",
        "decision_val=model_lineal.decision_function(val)\n",
        "#print(decision_val)\n",
        "class_val=np.zeros(data_val['class'].size)\n",
        "\n",
        "#Reemplazo a sistema binario 'h'= 1 y 'g'= 0\n",
        "for i in range(0,data_val['class'].size):\n",
        "  #Condición para reemplazar la clase real\n",
        "  if data_val.iloc[i,10]=='h':\n",
        "    class_val[i]=1\n",
        "  if data_val.iloc[i,10]=='g':\n",
        "    class_val[i]=0\n",
        "\n",
        "#Curva ROC\n",
        "FPR, TPR, thresholds = roc_curve(class_val, decision_val)\n",
        "\n",
        "plt.plot(FPR,TPR)\n",
        "plt.xlabel('Tasa Falsos Positivos')\n",
        "plt.ylabel('Tasa Verdaderos Positivos')\n",
        "plt.title('Curva ROC SVM lineal')\n",
        "plt.grid()\n",
        "plt.show()\n",
        "\n",
        "#Área bajo la curva ROC\n",
        "area_roc=auc(FPR,TPR)\n",
        "print('El área bajo la curva ROC es: '+str(area_roc))"
      ],
      "execution_count": null,
      "outputs": [
        {
          "output_type": "display_data",
          "data": {
            "image/png": "[encoded data removed]",
            "text/plain": [
              "<Figure size 432x288 with 1 Axes>"
            ]
          },
          "metadata": {
            "tags": [],
            "needs_background": "light"
          }
        },
        {
          "output_type": "stream",
          "text": [
            "El área bajo la curva ROC es: 0.8415920613863093\n"
          ],
          "name": "stdout"
        }
      ]
    },
    {
      "cell_type": "code",
      "metadata": {
        "colab": {
          "base_uri": "https://localhost:8080/",
          "height": 312
        },
        "id": "i7LF_y5Xocrd",
        "outputId": "1286a4a5-23c1-470f-e782-8e34e8f6beef"
      },
      "source": [
        "# 8. Generar una curva precisión-recall y calcular el average precision. Se debe usar las funciones\n",
        "# decision_function( ), metrics.precision_recall_curve( ) y metrics.average_precision_score( )\n",
        "\n",
        "#Curva Precision-Recall\n",
        "precision, recall, thresholds_2 = precision_recall_curve(class_val, decision_val)\n",
        "plt.plot(precision,recall)\n",
        "plt.xlabel('Precision')\n",
        "plt.ylabel('Recall')\n",
        "plt.title('Curva Precision-Recall SVM lineal')\n",
        "plt.grid()\n",
        "plt.show()\n",
        "\n",
        "#Average Precision\n",
        "average=average_precision_score(class_val, decision_val)\n",
        "print('El Average Precision es: '+str(average))"
      ],
      "execution_count": null,
      "outputs": [
        {
          "output_type": "display_data",
          "data": {
            "image/png": "[encoded data removed]",
            "text/plain": [
              "<Figure size 432x288 with 1 Axes>"
            ]
          },
          "metadata": {
            "tags": [],
            "needs_background": "light"
          }
        },
        {
          "output_type": "stream",
          "text": [
            "El Average Precision es: 0.8360054024843486\n"
          ],
          "name": "stdout"
        }
      ]
    },
    {
      "cell_type": "code",
      "metadata": {
        "colab": {
          "base_uri": "https://localhost:8080/",
          "height": 777
        },
        "id": "VbZsL2cLuo6D",
        "outputId": "05493e02-9ab5-4701-b9db-07868edb797e"
      },
      "source": [
        "# 9. Repetir los pasos (5), (6), (7), (8) para el caso de un SVM con kernel polinomial. Usar dos grados\n",
        "# distintos del polinomio y 4 valores de C y 4 valores de gamma (parámetro del kernel) para la grilla de\n",
        "#búsqueda (de parámetros).\n",
        "\n",
        "#SVM con kernel polinomial 9\n",
        "#9.5 \n",
        "#Define el mejor valor de los parámetros\n",
        "model_poly9=GridSearchCV(estimator=svm.SVC(), param_grid={'C':[0.1,5,10,50],'kernel':['poly'], 'gamma':[0.1,0.01,0.001,0.011], 'degree':[9]}, cv=5)\n",
        "#Entrena el modelo lineal \n",
        "model_poly9.fit(train, data_train['class'])\n",
        "\n",
        "#Muestra el resultado de los mejores parámetros\n",
        "print(model_poly9.best_estimator_)\n",
        "\n",
        "#9.6\n",
        "#Predicción usando el modelo de la opción 1\n",
        "prediccion_val_poly9=model_poly9.predict(val) \n",
        "#print(prediccion_val_poly9)\n",
        "\n",
        "#Matriz de confusión sin normalizar\n",
        "matriz_c_poly9=confusion_matrix(data_val['class'],prediccion_val_poly9, labels=['g','h'])\n",
        "print(matriz_c_poly9)\n",
        "#Matriz de confusión normalizada con respecto a cada clase\n",
        "matriz_cn_poly9=confusion_matrix(data_val['class'],prediccion_val_poly9, normalize='true', labels=['g','h'])\n",
        "print(matriz_cn_poly9)\n",
        "#Matriz de confusión normalizada con respecto al total de muestras\n",
        "matriz_cn2_poly9=confusion_matrix(data_val['class'],prediccion_val_poly9, normalize='all', labels=['g','h'])\n",
        "print(matriz_cn2_poly9)\n",
        "\n",
        "#9.7\n",
        "#Obtiene la evaluación del modelo para cada muestra del conjunto de validación \n",
        "decision_val_poly9=model_poly9.decision_function(val)\n",
        "\n",
        "#Curva ROC\n",
        "FPR_poly9, TPR_poly9, thresholds_poly9 = roc_curve(class_val, decision_val_poly9)\n",
        "\n",
        "plt.plot(FPR_poly9,TPR_poly9)\n",
        "plt.xlabel('Tasa Falsos Positivos')\n",
        "plt.ylabel('Tasa Verdaderos Positivos')\n",
        "plt.title('Curva ROC SVM Polinomial de orden 9')\n",
        "plt.grid()\n",
        "plt.show()\n",
        "\n",
        "#Área bajo la curva ROC\n",
        "area_roc_poly9=auc(FPR_poly9,TPR_poly9)\n",
        "print('El área bajo la curva ROC es: '+str(area_roc_poly9))\n",
        "\n",
        "#9.8\n",
        "#Curva Precision-Recall\n",
        "precision_poly9, recall_poly9, thresholds_poly9_2 = precision_recall_curve(class_val, decision_val_poly9)\n",
        "plt.plot(precision_poly9,recall_poly9)\n",
        "plt.xlabel('Precision')\n",
        "plt.ylabel('Recall')\n",
        "plt.title('Curva Precision-Recall SVM Polinomial de orden 9')\n",
        "plt.grid()\n",
        "plt.show()\n",
        "\n",
        "#Average Precision\n",
        "average_poly9=average_precision_score(class_val, decision_val_poly9)\n",
        "print('El Average Precision es: '+str(average_poly9))\n",
        "\n"
      ],
      "execution_count": null,
      "outputs": [
        {
          "output_type": "stream",
          "text": [
            "SVC(C=50, break_ties=False, cache_size=200, class_weight=None, coef0=0.0,\n",
            "    decision_function_shape='ovr', degree=9, gamma=0.1, kernel='poly',\n",
            "    max_iter=-1, probability=False, random_state=None, shrinking=True,\n",
            "    tol=0.001, verbose=False)\n",
            "[[579  42]\n",
            " [335 244]]\n",
            "[[0.93236715 0.06763285]\n",
            " [0.57858377 0.42141623]]\n",
            "[[0.4825     0.035     ]\n",
            " [0.27916667 0.20333333]]\n"
          ],
          "name": "stdout"
        },
        {
          "output_type": "display_data",
          "data": {
            "image/png": "[encoded data removed]",
            "text/plain": [
              "<Figure size 432x288 with 1 Axes>"
            ]
          },
          "metadata": {
            "tags": [],
            "needs_background": "light"
          }
        },
        {
          "output_type": "stream",
          "text": [
            "El área bajo la curva ROC es: 0.8027973156004995\n"
          ],
          "name": "stdout"
        },
        {
          "output_type": "display_data",
          "data": {
            "image/png": "[encoded data removed]",
            "text/plain": [
              "<Figure size 432x288 with 1 Axes>"
            ]
          },
          "metadata": {
            "tags": [],
            "needs_background": "light"
          }
        },
        {
          "output_type": "stream",
          "text": [
            "El Average Precision es: 0.8132995771123321\n"
          ],
          "name": "stdout"
        }
      ]
    },
    {
      "cell_type": "code",
      "metadata": {
        "colab": {
          "base_uri": "https://localhost:8080/"
        },
        "id": "1S7VuZt0qyDs",
        "outputId": "15c78b7b-44ff-416e-b3a4-ae1cef4201f9"
      },
      "source": [
        "print(model_poly9.best_estimator_)"
      ],
      "execution_count": null,
      "outputs": [
        {
          "output_type": "stream",
          "text": [
            "SVC(C=50, break_ties=False, cache_size=200, class_weight=None, coef0=0.0,\n",
            "    decision_function_shape='ovr', degree=9, gamma=0.1, kernel='poly',\n",
            "    max_iter=-1, probability=False, random_state=None, shrinking=True,\n",
            "    tol=0.001, verbose=False)\n"
          ],
          "name": "stdout"
        }
      ]
    },
    {
      "cell_type": "code",
      "metadata": {
        "colab": {
          "base_uri": "https://localhost:8080/",
          "height": 777
        },
        "id": "GPgi0R31JMey",
        "outputId": "a7a1f713-1716-44a3-db2d-5d698b5a31f5"
      },
      "source": [
        "#9\n",
        "#SVM con kernel polinomial 5\n",
        "#9.5 \n",
        "#Define el mejor valor de los parámetros\n",
        "model_poly5=GridSearchCV(estimator=svm.SVC(), param_grid={'C':[0.1,5,10,50],'kernel':['poly'], 'gamma':[0.1,0.01,0.001,0.011], 'degree':[5]}, cv=5)\n",
        "#Entrena el modelo lineal \n",
        "model_poly5.fit(train, data_train['class'])\n",
        "\n",
        "#Muestra el resultado de los mejores parámetros\n",
        "print(model_poly5.best_estimator_)\n",
        "\n",
        "#9.6\n",
        "#Predicción usando el modelo de la opción 1\n",
        "prediccion_val_poly5=model_poly5.predict(val) \n",
        "#print(prediccion_val_poly3)\n",
        "\n",
        "#Matriz de confusión sin normalizar\n",
        "matriz_c_poly5=confusion_matrix(data_val['class'],prediccion_val_poly5, labels=['g','h'])\n",
        "print(matriz_c_poly5)\n",
        "#Matriz de confusión normalizada\n",
        "matriz_cn_poly5=confusion_matrix(data_val['class'],prediccion_val_poly5, normalize='true', labels=['g','h'])\n",
        "print(matriz_cn_poly5)\n",
        "#Matriz de confusión normalizada con respecto al total de muestras\n",
        "matriz_cn2_poly5=confusion_matrix(data_val['class'],prediccion_val_poly5, normalize='all', labels=['g','h'])\n",
        "print(matriz_cn2_poly5)\n",
        "\n",
        "#9.7\n",
        "#Obtiene la evaluación del modelo para cada muestra del conjunto de validación \n",
        "decision_val_poly5=model_poly5.decision_function(val)\n",
        "\n",
        "#Curva ROC\n",
        "FPR_poly5, TPR_poly5, thresholds_poly5 = roc_curve(class_val, decision_val_poly5)\n",
        "\n",
        "plt.plot(FPR_poly5,TPR_poly5)\n",
        "plt.xlabel('Tasa Falsos Positivos')\n",
        "plt.ylabel('Tasa Verdaderos Positivos')\n",
        "plt.title('Curva ROC SVM Polinomial de orden 5')\n",
        "plt.grid()\n",
        "plt.show()\n",
        "\n",
        "#Área bajo la curva ROC\n",
        "area_roc_poly5=auc(FPR_poly5,TPR_poly5)\n",
        "print('El área bajo la curva ROC es: '+str(area_roc_poly5))\n",
        "\n",
        "#9.8\n",
        "#Curva Precision-Recall\n",
        "precision_poly5, recall_poly5, thresholds_poly5_2 = precision_recall_curve(class_val, decision_val_poly5)\n",
        "plt.plot(precision_poly5,recall_poly5)\n",
        "plt.xlabel('Precision')\n",
        "plt.ylabel('Recall')\n",
        "plt.title('Curva Precision-Recall SVM Polinomial de orden 5')\n",
        "plt.grid()\n",
        "plt.show()\n",
        "\n",
        "#Average Precision\n",
        "average_poly5=average_precision_score(class_val, decision_val_poly5)\n",
        "print('El Average Precision es: '+str(average_poly5))"
      ],
      "execution_count": null,
      "outputs": [
        {
          "output_type": "stream",
          "text": [
            "SVC(C=50, break_ties=False, cache_size=200, class_weight=None, coef0=0.0,\n",
            "    decision_function_shape='ovr', degree=5, gamma=0.1, kernel='poly',\n",
            "    max_iter=-1, probability=False, random_state=None, shrinking=True,\n",
            "    tol=0.001, verbose=False)\n",
            "[[575  46]\n",
            " [203 376]]\n",
            "[[0.92592593 0.07407407]\n",
            " [0.35060449 0.64939551]]\n",
            "[[0.47916667 0.03833333]\n",
            " [0.16916667 0.31333333]]\n"
          ],
          "name": "stdout"
        },
        {
          "output_type": "display_data",
          "data": {
            "image/png": "[encoded data removed]",
            "text/plain": [
              "<Figure size 432x288 with 1 Axes>"
            ]
          },
          "metadata": {
            "tags": [],
            "needs_background": "light"
          }
        },
        {
          "output_type": "stream",
          "text": [
            "El área bajo la curva ROC es: 0.8734727819356489\n"
          ],
          "name": "stdout"
        },
        {
          "output_type": "display_data",
          "data": {
            "image/png": "[encoded data removed]",
            "text/plain": [
              "<Figure size 432x288 with 1 Axes>"
            ]
          },
          "metadata": {
            "tags": [],
            "needs_background": "light"
          }
        },
        {
          "output_type": "stream",
          "text": [
            "El Average Precision es: 0.8789924648595084\n"
          ],
          "name": "stdout"
        }
      ]
    },
    {
      "cell_type": "code",
      "metadata": {
        "colab": {
          "base_uri": "https://localhost:8080/",
          "height": 777
        },
        "id": "cHSJlLCE8RJp",
        "outputId": "9163dee1-6f77-4256-c822-6a68ba8cef96"
      },
      "source": [
        "# 10. Repetir los pasos (5), (6), (7), (8) para el caso de un SVM con kernel RBF. Usar 5 valores de C y 4\n",
        "#valores de gamma (parámetro del kernel) para la grilla de búsqueda (de parámetros)..\n",
        "\n",
        "#10.5 \n",
        "#Define el mejor valor de los parámetros\n",
        "model_rbf=GridSearchCV(estimator=svm.SVC(), param_grid={'C':[0.1,5,10,50,100],'kernel':['rbf'], 'gamma':[0.1,0.01,0.001,0.011]}, cv=5)\n",
        "#Entrena el modelo lineal \n",
        "model_rbf.fit(train, data_train['class'])\n",
        "\n",
        "#Muestra el resultado de los mejores parámetros\n",
        "print(model_rbf.best_estimator_)\n",
        "\n",
        "#10.6\n",
        "#Predicción usando el modelo de la opción 1\n",
        "prediccion_val_rbf=model_rbf.predict(val) \n",
        "#print(prediccion_val_poly3)\n",
        "\n",
        "#Matriz de confusión sin normalizar\n",
        "matriz_c_rbf=confusion_matrix(data_val['class'],prediccion_val_rbf, labels=['g','h'])\n",
        "print(matriz_c_rbf)\n",
        "#Matriz de confusión normalizada con respecto a cada clase\n",
        "matriz_cn_rbf=confusion_matrix(data_val['class'],prediccion_val_rbf, normalize='true', labels=['g','h'])\n",
        "print(matriz_cn_rbf)\n",
        "#Matriz de confusión normalizada con respecto al total de muestras\n",
        "matriz_cn2_rbf=confusion_matrix(data_val['class'],prediccion_val_rbf, normalize='all', labels=['g','h'])\n",
        "print(matriz_cn2_rbf)\n",
        "\n",
        "#10.7\n",
        "#Obtiene la evaluación del modelo para cada muestra del conjunto de validación \n",
        "decision_val_rbf=model_rbf.decision_function(val)\n",
        "\n",
        "#Curva ROC\n",
        "FPR_rbf, TPR_rbf, thresholds_rbf = roc_curve(class_val, decision_val_rbf)\n",
        "\n",
        "plt.plot(FPR_rbf,TPR_rbf)\n",
        "plt.xlabel('Tasa Falsos Positivos')\n",
        "plt.ylabel('Tasa Verdaderos Positivos')\n",
        "plt.title('Curva ROC SVM RBF')\n",
        "plt.grid()\n",
        "plt.show()\n",
        "\n",
        "#Área bajo la curva ROC\n",
        "area_roc_rbf=auc(FPR_rbf,TPR_rbf)\n",
        "print('El área bajo la curva ROC es: '+str(area_roc_rbf))\n",
        "\n",
        "#10.8\n",
        "#Curva Precision-Recall\n",
        "precision_rbf, recall_rbf, thresholds_rbf_2 = precision_recall_curve(class_val, decision_val_rbf)\n",
        "plt.plot(precision_rbf,recall_rbf)\n",
        "plt.xlabel('Precision')\n",
        "plt.ylabel('Recall')\n",
        "plt.title('Curva Precision-Recall SVM RBF')\n",
        "plt.grid()\n",
        "plt.show()\n",
        "\n",
        "#Average Precision\n",
        "average_rbf=average_precision_score(class_val, decision_val_rbf)\n",
        "print('El Average Precision es: '+str(average_rbf))\n"
      ],
      "execution_count": null,
      "outputs": [
        {
          "output_type": "stream",
          "text": [
            "SVC(C=10, break_ties=False, cache_size=200, class_weight=None, coef0=0.0,\n",
            "    decision_function_shape='ovr', degree=3, gamma=0.1, kernel='rbf',\n",
            "    max_iter=-1, probability=False, random_state=None, shrinking=True,\n",
            "    tol=0.001, verbose=False)\n",
            "[[561  60]\n",
            " [118 461]]\n",
            "[[0.90338164 0.09661836]\n",
            " [0.20379965 0.79620035]]\n",
            "[[0.4675     0.05      ]\n",
            " [0.09833333 0.38416667]]\n"
          ],
          "name": "stdout"
        },
        {
          "output_type": "display_data",
          "data": {
            "image/png": "[encoded data removed]",
            "text/plain": [
              "<Figure size 432x288 with 1 Axes>"
            ]
          },
          "metadata": {
            "tags": [],
            "needs_background": "light"
          }
        },
        {
          "output_type": "stream",
          "text": [
            "El área bajo la curva ROC es: 0.9218598338520243\n"
          ],
          "name": "stdout"
        },
        {
          "output_type": "display_data",
          "data": {
            "image/png": "[encoded data removed]",
            "text/plain": [
              "<Figure size 432x288 with 1 Axes>"
            ]
          },
          "metadata": {
            "tags": [],
            "needs_background": "light"
          }
        },
        {
          "output_type": "stream",
          "text": [
            "El Average Precision es: 0.9305055043822776\n"
          ],
          "name": "stdout"
        }
      ]
    },
    {
      "cell_type": "code",
      "metadata": {
        "colab": {
          "base_uri": "https://localhost:8080/",
          "height": 1000
        },
        "id": "mLri8QN0Oi1F",
        "outputId": "78fcaa23-7a75-4081-ed8d-dc6d2d3debd4"
      },
      "source": [
        "# 11. Evaluar el mejor clasificador obtenido sobre el conjunto de prueba, reportando las métricas indicadas\n",
        "# en (6), (7) y (8). Considerar los casos de SVM lineal, SVM con kernel polinomial (2 grados distintos\n",
        "#de polinomio) y SVM con kernel RBF.\n",
        "\n",
        "# Este desarrollo es análogo al aplicado al conjunto de validación \n",
        "\n",
        "#Clasificador Lineal \n",
        "# 6. Evaluar sobre el conjunto de validación y generar la matriz de confusión, tanto en su versión\n",
        "# normalizada como no normalizada. Se recomienda usar metrics.confusión_matrix( )\n",
        "\n",
        "#Predicción usando el modelo de la opción 1\n",
        "prediccion_test=model_lineal.predict(test) \n",
        "#print(prediccion_test)\n",
        "\n",
        "#Matriz de confusión sin normalizar\n",
        "matriz_c_test=confusion_matrix(data_test['class'],prediccion_test, labels=['g','h'])\n",
        "print(matriz_c_test)\n",
        "#Matriz de confusión normalizada con respecto a cada clase\n",
        "matriz_cn_test=confusion_matrix(data_test['class'],prediccion_test, normalize='true', labels=['g','h'])\n",
        "print(matriz_cn_test)\n",
        "#Matriz de confusión normalizada con respecto al total de muestras\n",
        "matriz_cn2_test=confusion_matrix(data_test['class'],prediccion_test, normalize='all', labels=['g','h'])\n",
        "print(matriz_cn2_test)\n",
        "\n",
        "#7. Generar una curva ROC que muestre el desempeño del clasificador y calcular el área bajo la curva.\n",
        "# Se debe usar las funciones decision_function( ), metrics.roc_curve( ) y metrics.auc( )\n",
        "\n",
        "#Obtiene la evaluación del modelo para cada muestra del conjunto de validación \n",
        "decision_test=model_lineal.decision_function(test)\n",
        "#print(decision_val)\n",
        "class_test=np.zeros(data_test['class'].size)\n",
        "\n",
        "#Reemplazo a sistema binario 'h'= 1 y 'g'= 0\n",
        "for i in range(0,data_test['class'].size):\n",
        "  #Condición para reemplazar la clase real\n",
        "  if data_test.iloc[i,10]=='h':\n",
        "    class_test[i]=1\n",
        "  if data_test.iloc[i,10]=='g':\n",
        "    class_test[i]=0\n",
        "\n",
        "#Curva ROC\n",
        "FPR_test, TPR_test, thresholds_test = roc_curve(class_test, decision_test)\n",
        "\n",
        "plt.plot(FPR_test,TPR_test)\n",
        "plt.xlabel('Tasa Falsos Positivos')\n",
        "plt.ylabel('Tasa Verdaderos Positivos')\n",
        "plt.title('Curva ROC SVM lineal, Conjunto Prueba')\n",
        "plt.grid()\n",
        "plt.show()\n",
        "\n",
        "#Área bajo la curva ROC\n",
        "area_roc_test=auc(FPR_test,TPR_test)\n",
        "print('El área bajo la curva ROC es: '+str(area_roc_test))\n",
        "\n",
        "# 8. Generar una curva precisión-recall y calcular el average precision. Se debe usar las funciones\n",
        "# decision_function( ), metrics.precision_recall_curve( ) y metrics.average_precision_score( )\n",
        "\n",
        "#Curva Precision-Recall\n",
        "precision_test, recall_test, thresholds_2_test = precision_recall_curve(class_test, decision_test)\n",
        "plt.plot(precision_test,recall_test)\n",
        "plt.xlabel('Precision')\n",
        "plt.ylabel('Recall')\n",
        "plt.title('Curva Precision-Recall SVM lineal, Conjunto Prueba')\n",
        "plt.grid()\n",
        "plt.show()\n",
        "\n",
        "#Average Precision\n",
        "average_test=average_precision_score(class_test, decision_test)\n",
        "print('El Average Precision es: '+str(average_test))\n",
        "\n",
        "#Clasificador SVM con kernel polinomial de grado 9\n",
        "#9.6\n",
        "#Predicción usando el modelo de la opción 1\n",
        "prediccion_test_poly9=model_poly9.predict(test) \n",
        "#print(prediccion_test_poly9)\n",
        "\n",
        "#Matriz de confusión sin normalizar\n",
        "matriz_c_poly9_test=confusion_matrix(data_test['class'],prediccion_test_poly9, labels=['g','h'])\n",
        "print(matriz_c_poly9_test)\n",
        "#Matriz de confusión normalizada con respecto a cada clase\n",
        "matriz_cn_poly9_test=confusion_matrix(data_test['class'],prediccion_test_poly9, normalize='true', labels=['g','h'])\n",
        "print(matriz_cn_poly9_test)\n",
        "#Matriz de confusión normalizada con respecto al total de muestras\n",
        "matriz_cn2_poly9_test=confusion_matrix(data_test['class'],prediccion_test_poly9, normalize='all', labels=['g','h'])\n",
        "print(matriz_cn2_poly9_test)\n",
        "\n",
        "#9.7\n",
        "#Obtiene la evaluación del modelo para cada muestra del conjunto de validación \n",
        "decision_test_poly9=model_poly9.decision_function(test)\n",
        "\n",
        "#Curva ROC\n",
        "FPR_poly9_test, TPR_poly9_test, thresholds_poly9_test = roc_curve(class_test, decision_test_poly9)\n",
        "\n",
        "plt.plot(FPR_poly9_test,TPR_poly9_test)\n",
        "plt.xlabel('Tasa Falsos Positivos')\n",
        "plt.ylabel('Tasa Verdaderos Positivos')\n",
        "plt.title('Curva ROC SVM Polinomial de orden 9, Conjunto Prueba')\n",
        "plt.grid()\n",
        "plt.show()\n",
        "\n",
        "#Área bajo la curva ROC\n",
        "area_roc_poly9_test=auc(FPR_poly9_test,TPR_poly9_test)\n",
        "print('El área bajo la curva ROC es: '+str(area_roc_poly9_test))\n",
        "\n",
        "#9.8\n",
        "#Curva Precision-Recall\n",
        "precision_poly9_test, recall_poly9_test, thresholds_poly9_2_test = precision_recall_curve(class_test, decision_test_poly9)\n",
        "plt.plot(precision_poly9_test,recall_poly9_test)\n",
        "plt.xlabel('Precision')\n",
        "plt.ylabel('Recall')\n",
        "plt.title('Curva Precision-Recall SVM Polinomial de orden 9, Conjunto Prueba')\n",
        "plt.grid()\n",
        "plt.show()\n",
        "\n",
        "#Average Precision\n",
        "average_poly9_test=average_precision_score(class_test, decision_test_poly9)\n",
        "print('El Average Precision es: '+str(average_poly9_test))\n",
        "\n",
        "#SVM con kernel polinomial 5\n",
        "\n",
        "#9.6\n",
        "#Predicción usando el modelo de la opción 1\n",
        "prediccion_test_poly5=model_poly5.predict(test) \n",
        "#print(prediccion_test_poly3)\n",
        "\n",
        "#Matriz de confusión sin normalizar\n",
        "matriz_c_poly5_test=confusion_matrix(data_test['class'],prediccion_test_poly5, labels=['g','h'])\n",
        "print(matriz_c_poly5_test)\n",
        "#Matriz de confusión normalizada\n",
        "matriz_cn_poly5_test=confusion_matrix(data_test['class'],prediccion_test_poly5, normalize='true', labels=['g','h'])\n",
        "print(matriz_cn_poly5_test)\n",
        "#Matriz de confusión normalizada con respecto al total de muestras\n",
        "matriz_cn2_poly5_test=confusion_matrix(data_test['class'],prediccion_test_poly5, normalize='all', labels=['g','h'])\n",
        "print(matriz_cn2_poly5_test)\n",
        "\n",
        "#9.7\n",
        "#Obtiene la evaluación del modelo para cada muestra del conjunto de validación \n",
        "decision_test_poly5=model_poly5.decision_function(test)\n",
        "\n",
        "#Curva ROC\n",
        "FPR_poly5_test, TPR_poly5_test, thresholds_poly5_test = roc_curve(class_test, decision_test_poly5)\n",
        "\n",
        "plt.plot(FPR_poly5_test,TPR_poly5_test)\n",
        "plt.xlabel('Tasa Falsos Positivos')\n",
        "plt.ylabel('Tasa Verdaderos Positivos')\n",
        "plt.title('Curva ROC SVM Polinomial de orden 5, Conjunto Prueba')\n",
        "plt.grid()\n",
        "plt.show()\n",
        "\n",
        "#Área bajo la curva ROC\n",
        "area_roc_poly5_test=auc(FPR_poly5_test,TPR_poly5_test)\n",
        "print('El área bajo la curva ROC es: '+str(area_roc_poly5_test))\n",
        "\n",
        "#9.8\n",
        "#Curva Precision-Recall\n",
        "precision_poly5_test, recall_poly5_test, thresholds_poly5_2_test = precision_recall_curve(class_test, decision_test_poly5)\n",
        "plt.plot(precision_poly5_test,recall_poly5_test)\n",
        "plt.xlabel('Precision')\n",
        "plt.ylabel('Recall')\n",
        "plt.title('Curva Precision-Recall SVM Polinomial de orden 5, Conjunto Prueba')\n",
        "plt.grid()\n",
        "plt.show()\n",
        "\n",
        "#Average Precision\n",
        "average_poly5_test=average_precision_score(class_test, decision_test_poly5)\n",
        "print('El Average Precision es: '+str(average_poly5_test))\n",
        "\n",
        "#Clasificador SVM RBF\n",
        "#10.6\n",
        "#Predicción usando el modelo de la opción 1\n",
        "prediccion_test_rbf=model_rbf.predict(test) \n",
        "#print(prediccion_test_poly3)\n",
        "\n",
        "#Matriz de confusión sin normalizar\n",
        "matriz_c_rbf_test=confusion_matrix(data_test['class'],prediccion_test_rbf, labels=['g','h'])\n",
        "print(matriz_c_rbf_test)\n",
        "#Matriz de confusión normalizada con respecto a cada clase\n",
        "matriz_cn_rbf_test=confusion_matrix(data_test['class'],prediccion_test_rbf, normalize='true', labels=['g','h'])\n",
        "print(matriz_cn_rbf_test)\n",
        "#Matriz de confusión normalizada con respecto al total de muestras\n",
        "matriz_cn2_rbf_test=confusion_matrix(data_test['class'],prediccion_test_rbf, normalize='all', labels=['g','h'])\n",
        "print(matriz_cn2_rbf_test)\n",
        "\n",
        "#10.7\n",
        "#Obtiene la evaluación del modelo para cada muestra del conjunto de validación \n",
        "decision_test_rbf=model_rbf.decision_function(test)\n",
        "\n",
        "#Curva ROC\n",
        "FPR_rbf_test, TPR_rbf_test, thresholds_rbf_test = roc_curve(class_test, decision_test_rbf)\n",
        "\n",
        "plt.plot(FPR_rbf_test,TPR_rbf_test)\n",
        "plt.xlabel('Tasa Falsos Positivos')\n",
        "plt.ylabel('Tasa Verdaderos Positivos')\n",
        "plt.title('Curva ROC SVM RBF, Conjunto Prueba')\n",
        "plt.grid()\n",
        "plt.show()\n",
        "\n",
        "#Área bajo la curva ROC\n",
        "area_roc_rbf_test=auc(FPR_rbf_test,TPR_rbf_test)\n",
        "print('El área bajo la curva ROC es: '+str(area_roc_rbf_test))\n",
        "\n",
        "#10.8\n",
        "#Curva Precision-Recall\n",
        "precision_rbf_test, recall_rbf_test, thresholds_rbf_2_test = precision_recall_curve(class_test, decision_test_rbf)\n",
        "plt.plot(precision_rbf_test,recall_rbf_test)\n",
        "plt.xlabel('Precision')\n",
        "plt.ylabel('Recall')\n",
        "plt.title('Curva Precision-Recall SVM RBF, Conjunto Prueba')\n",
        "plt.grid()\n",
        "plt.show()\n",
        "\n",
        "#Average Precision\n",
        "average_rbf_test=average_precision_score(class_test, decision_test_rbf)\n",
        "print('El Average Precision es: '+str(average_rbf_test))\n",
        "\n",
        "\n"
      ],
      "execution_count": null,
      "outputs": [
        {
          "output_type": "stream",
          "text": [
            "[[475 113]\n",
            " [163 449]]\n",
            "[[0.80782313 0.19217687]\n",
            " [0.26633987 0.73366013]]\n",
            "[[0.39583333 0.09416667]\n",
            " [0.13583333 0.37416667]]\n"
          ],
          "name": "stdout"
        },
        {
          "output_type": "display_data",
          "data": {
            "image/png": "[encoded data removed]",
            "text/plain": [
              "<Figure size 432x288 with 1 Axes>"
            ]
          },
          "metadata": {
            "tags": [],
            "needs_background": "light"
          }
        },
        {
          "output_type": "stream",
          "text": [
            "El área bajo la curva ROC es: 0.8376850740296119\n"
          ],
          "name": "stdout"
        },
        {
          "output_type": "display_data",
          "data": {
            "image/png": "[encoded data removed]",
            "text/plain": [
              "<Figure size 432x288 with 1 Axes>"
            ]
          },
          "metadata": {
            "tags": [],
            "needs_background": "light"
          }
        },
        {
          "output_type": "stream",
          "text": [
            "El Average Precision es: 0.8521849852166361\n",
            "[[547  41]\n",
            " [324 288]]\n",
            "[[0.93027211 0.06972789]\n",
            " [0.52941176 0.47058824]]\n",
            "[[0.45583333 0.03416667]\n",
            " [0.27       0.24      ]]\n"
          ],
          "name": "stdout"
        },
        {
          "output_type": "display_data",
          "data": {
            "image/png": "[encoded data removed]",
            "text/plain": [
              "<Figure size 432x288 with 1 Axes>"
            ]
          },
          "metadata": {
            "tags": [],
            "needs_background": "light"
          }
        },
        {
          "output_type": "stream",
          "text": [
            "El área bajo la curva ROC es: 0.8207783113245298\n"
          ],
          "name": "stdout"
        },
        {
          "output_type": "display_data",
          "data": {
            "image/png": "[encoded data removed]",
            "text/plain": [
              "<Figure size 432x288 with 1 Axes>"
            ]
          },
          "metadata": {
            "tags": [],
            "needs_background": "light"
          }
        },
        {
          "output_type": "stream",
          "text": [
            "El Average Precision es: 0.8407757690764877\n",
            "[[540  48]\n",
            " [197 415]]\n",
            "[[0.91836735 0.08163265]\n",
            " [0.32189542 0.67810458]]\n",
            "[[0.45       0.04      ]\n",
            " [0.16416667 0.34583333]]\n"
          ],
          "name": "stdout"
        },
        {
          "output_type": "display_data",
          "data": {
            "image/png": "[encoded data removed]",
            "text/plain": [
              "<Figure size 432x288 with 1 Axes>"
            ]
          },
          "metadata": {
            "tags": [],
            "needs_background": "light"
          }
        },
        {
          "output_type": "stream",
          "text": [
            "El área bajo la curva ROC es: 0.8827141967898271\n"
          ],
          "name": "stdout"
        },
        {
          "output_type": "display_data",
          "data": {
            "image/png": "[encoded data removed]",
            "text/plain": [
              "<Figure size 432x288 with 1 Axes>"
            ]
          },
          "metadata": {
            "tags": [],
            "needs_background": "light"
          }
        },
        {
          "output_type": "stream",
          "text": [
            "El Average Precision es: 0.8981989558286616\n",
            "[[523  65]\n",
            " [129 483]]\n",
            "[[0.88945578 0.11054422]\n",
            " [0.21078431 0.78921569]]\n",
            "[[0.43583333 0.05416667]\n",
            " [0.1075     0.4025    ]]\n"
          ],
          "name": "stdout"
        },
        {
          "output_type": "display_data",
          "data": {
            "image/png": "[encoded data removed]",
            "text/plain": [
              "<Figure size 432x288 with 1 Axes>"
            ]
          },
          "metadata": {
            "tags": [],
            "needs_background": "light"
          }
        },
        {
          "output_type": "stream",
          "text": [
            "El área bajo la curva ROC es: 0.9145963941132008\n"
          ],
          "name": "stdout"
        },
        {
          "output_type": "display_data",
          "data": {
            "image/png": "[encoded data removed]",
            "text/plain": [
              "<Figure size 432x288 with 1 Axes>"
            ]
          },
          "metadata": {
            "tags": [],
            "needs_background": "light"
          }
        },
        {
          "output_type": "stream",
          "text": [
            "El Average Precision es: 0.92809973514578\n"
          ],
          "name": "stdout"
        }
      ]
    },
    {
      "cell_type": "code",
      "metadata": {
        "colab": {
          "base_uri": "https://localhost:8080/",
          "height": 573
        },
        "id": "vXXPG1zCt8NI",
        "outputId": "86543630-72b1-40a2-ee16-d89349eb210d"
      },
      "source": [
        "#Gráfico comparativo de las curvas roc\n",
        "\n",
        "plt.plot(FPR_test,TPR_test, label='Lineal')\n",
        "plt.plot(FPR_poly9_test,TPR_poly9_test, label='Polinomial orden 9')\n",
        "plt.plot(FPR_poly5_test,TPR_poly5_test, label='Polinomial orden 5')\n",
        "plt.plot(FPR_rbf_test,TPR_rbf_test, label='RBF')\n",
        "plt.xlabel('Tasa Falsos Positivos')\n",
        "plt.ylabel('Tasa Verdaderos Positivos')\n",
        "plt.title('Comparación curvas ROC, Conjunto Prueba')\n",
        "plt.legend()\n",
        "plt.grid()\n",
        "plt.show()\n",
        "\n",
        "#Gráfico comparativo curvas precision-recall\n",
        "\n",
        "plt.plot(precision_test,recall_test, label='Lineal')\n",
        "plt.plot(precision_poly9_test,recall_poly9_test, label='Polinomial orden 9')\n",
        "plt.plot(precision_poly5_test,recall_poly5_test, label='Polinomial orden 5')\n",
        "plt.plot(precision_rbf_test,recall_rbf_test, label='RBF')\n",
        "plt.xlabel('Precision')\n",
        "plt.ylabel('Recall')\n",
        "plt.title('Comparación curvas Precision-Recall, Conjunto Prueba')\n",
        "plt.legend()\n",
        "plt.grid()\n",
        "plt.show()\n"
      ],
      "execution_count": null,
      "outputs": [
        {
          "output_type": "display_data",
          "data": {
            "image/png": "[encoded data removed]",
            "text/plain": [
              "<Figure size 432x288 with 1 Axes>"
            ]
          },
          "metadata": {
            "tags": [],
            "needs_background": "light"
          }
        },
        {
          "output_type": "display_data",
          "data": {
            "image/png": "[encoded data removed]",
            "text/plain": [
              "<Figure size 432x288 with 1 Axes>"
            ]
          },
          "metadata": {
            "tags": [],
            "needs_background": "light"
          }
        }
      ]
    }
  ]
}